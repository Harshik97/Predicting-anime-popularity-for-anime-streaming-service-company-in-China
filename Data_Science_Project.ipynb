{
  "nbformat": 4,
  "nbformat_minor": 5,
  "metadata": {
    "colab": {
      "name": "Data-Science-Project.ipynb",
      "provenance": [],
      "collapsed_sections": []
    },
    "kernelspec": {
      "display_name": "Python 3",
      "language": "python",
      "name": "python3"
    },
    "language_info": {
      "codemirror_mode": {
        "name": "ipython",
        "version": 3
      },
      "file_extension": ".py",
      "mimetype": "text/x-python",
      "name": "python",
      "nbconvert_exporter": "python",
      "pygments_lexer": "ipython3",
      "version": "3.8.5"
    }
  },
  "cells": [
    {
      "cell_type": "markdown",
      "metadata": {
        "id": "9DBbCxyRIFnz"
      },
      "source": [
        "# Predicting anime popularity for anime streaming service company in China\n",
        "Team 4  \n",
        "Jui-Chia Chung  \n",
        "Harshik Rampal  "
      ],
      "id": "9DBbCxyRIFnz"
    },
    {
      "cell_type": "markdown",
      "metadata": {
        "id": "dSEwdT61RKTe"
      },
      "source": [
        "![Demon Slayer](https://img2.hulu.com/user/v3/artwork/2c3e4b00-30d9-434d-bccc-cf346e40e868?base_image_bucket_name=image_manager&base_image=8940a6b8-788b-4683-af9e-b65a3c7fa279&region=US&format=jpeg&size=952x536)"
      ],
      "id": "dSEwdT61RKTe"
    },
    {
      "cell_type": "markdown",
      "metadata": {
        "id": "married-moldova"
      },
      "source": [
        "## Motivation"
      ],
      "id": "married-moldova"
    },
    {
      "cell_type": "markdown",
      "metadata": {
        "id": "freelance-swedish"
      },
      "source": [
        "There is a recent boom in anime \"Demon slayer: Kimetsu No Yaiba\", especially in Japan, where the anime has become a hot topic even among people who don't normally watch anime. Its movie grossed over 30 billion yen at the box office and has become the top 1 movie in Japan. This anime became very popular in China as well. As we searched for \"Demon slayer\" and some other very popular anime such as \"Attack On Titan\" on several Chinese streaming platforms including bilibili, youku, iQIYI, etc., we noticed that they are only available on one or a few platforms. This is because these platforms bought the licence for broadcasting an anime so that they are the only platforms allowed to broadcast it or that they can broadcast them before any other platforms are allowed to broadcast. Therefore, the platforms with the licence are the only choices for users who want to watch the anime. Moreover, the platforms may charge users for the popular anime, and since there is no other platform with the right to broadcast the anime, users will have to pay in order to watch full episodes of the anime, which brings huge revenue to the platforms. There are many new anime coming out each season and streaming platforms have to decide which anime to invest in. An anime streaming service company may therefore be very interested in predicting what anime are more likely to be popular, i.e. predicting the rating of an anime, so that they can purchase the licence to broadcast these anime before the other competitors do.\n",
        "\n",
        "Suppose we are an anime streaming service company in China. We plan to investigate in supervised learning to predict the rating of anime (regression task) and whether the anime will be popular or not (classification task) in order to make better decisions on what anime to invest in and how much we should invest in to increase the revenue of the company. \n",
        "\n",
        "We can classify an anime into popular or unpopular by performing classification task and broadcast the popular anime. We may also be interested in predicting the rating of anime. For example, on a scale of 1 to 10, we may want to buy licence to be the only platform allowed to broadcast only for the anime predicted to rate above 9, as this type of licence is more expensive. For anime predicted to rate 7 to 9, we may want to buy licence to be one of the platforms that are allowed to broadcast the anime earlier than some other platforms. Predicting the rating of anime helps to make better decisions on what type of licence we buy for an anime and to reduce the cost. We can also decide what price we should charge the users, since the users are more willing to pay a higher price only for the very popular animes. \n",
        "\n",
        "In a word, being able to predict the popularity of an anime can be useful in making good decisions that help increase the revenue of the company. In addition, we may use our predictions to provide a ranking (e.g. \"editor's choice\") and suggest our users what to pick. \n",
        " \n",
        "\n",
        "\n",
        "\n",
        "\n"
      ],
      "id": "freelance-swedish"
    },
    {
      "cell_type": "markdown",
      "metadata": {
        "id": "prospective-receiver"
      },
      "source": [
        "## Dataset"
      ],
      "id": "prospective-receiver"
    },
    {
      "cell_type": "markdown",
      "metadata": {
        "id": "exclusive-market"
      },
      "source": [
        "Our dataset stems from [MyAnime database](https://www.kaggle.com/hernan4444/anime-recommendation-database-2020) found on Kaggle, which contains 4 datasets. watching_status.csv describes 6 possible watching status, for example, 1 indicating currently watching, 2 indicating completed, and so on. rating_complete.csv is a subset of animelist.csv and contains ratings given by each user to animes with watching_status == 2 (completed). We plan to mainly use anime.csv from the database. \n",
        "\n",
        "animelist.csv is tidy, with 109 million rows and 5 columns. The column variables include  user_id, anime_id, rating, watching_status, and watched_episodes. This dataset contains 17,562 different animes and 325,772 users. \n",
        "\n",
        "anime.csv is tidy, with 17562 rows and 35 columns. It encompasses descriptive features for each anime, including genre, number of episodes, duration, source, score, type, etc.\n",
        "\n",
        "We will split the dataset randomly into training data and test data at a ratio of 0.8 to 0.2. "
      ],
      "id": "exclusive-market"
    },
    {
      "cell_type": "code",
      "metadata": {
        "colab": {
          "base_uri": "https://localhost:8080/"
        },
        "id": "criminal-northern",
        "outputId": "e55a1b72-59de-4c88-f017-53057d2deaa9"
      },
      "source": [
        "# Necessary imports \n",
        "import numpy as np\n",
        "import pandas as pd\n",
        "import matplotlib.pyplot as plt\n",
        "import sklearn\n",
        "from sklearn.preprocessing import OneHotEncoder\n",
        "from sklearn.feature_extraction.text import CountVectorizer, TfidfVectorizer\n",
        "import seaborn as sns\n",
        "from sklearn import preprocessing\n",
        "from sklearn.model_selection import train_test_split\n",
        "\n",
        "# Model imports\n",
        "from sklearn.svm import SVR\n",
        "from sklearn.ensemble import RandomForestClassifier\n",
        "\n",
        "# Evaluation metric imports\n",
        "from sklearn.metrics import r2_score, mean_squared_error, roc_auc_score\n",
        "from sklearn.model_selection import cross_val_score\n",
        "\n",
        "# Imbalance data\n",
        "from imblearn.over_sampling import SMOTE"
      ],
      "id": "criminal-northern",
      "execution_count": null,
      "outputs": [
        {
          "output_type": "stream",
          "text": [
            "/usr/local/lib/python3.7/dist-packages/sklearn/externals/six.py:31: FutureWarning: The module is deprecated in version 0.21 and will be removed in version 0.23 since we've dropped support for Python 2.7. Please rely on the official version of six (https://pypi.org/project/six/).\n",
            "  \"(https://pypi.org/project/six/).\", FutureWarning)\n",
            "/usr/local/lib/python3.7/dist-packages/sklearn/utils/deprecation.py:144: FutureWarning: The sklearn.neighbors.base module is  deprecated in version 0.22 and will be removed in version 0.24. The corresponding classes / functions should instead be imported from sklearn.neighbors. Anything that cannot be imported from sklearn.neighbors is now part of the private API.\n",
            "  warnings.warn(message, FutureWarning)\n"
          ],
          "name": "stderr"
        }
      ]
    },
    {
      "cell_type": "code",
      "metadata": {
        "id": "advised-teach"
      },
      "source": [
        "# Reading data\n",
        "anime_features = pd.read_csv('../data/anime.csv')"
      ],
      "id": "advised-teach",
      "execution_count": null,
      "outputs": []
    },
    {
      "cell_type": "code",
      "metadata": {
        "colab": {
          "base_uri": "https://localhost:8080/",
          "height": 649
        },
        "id": "sensitive-porcelain",
        "outputId": "456e3cc7-f4be-4fe0-c084-d4cdc733617d"
      },
      "source": [
        "anime_features.head(5)"
      ],
      "id": "sensitive-porcelain",
      "execution_count": null,
      "outputs": [
        {
          "output_type": "execute_result",
          "data": {
            "text/html": [
              "<div>\n",
              "<style scoped>\n",
              "    .dataframe tbody tr th:only-of-type {\n",
              "        vertical-align: middle;\n",
              "    }\n",
              "\n",
              "    .dataframe tbody tr th {\n",
              "        vertical-align: top;\n",
              "    }\n",
              "\n",
              "    .dataframe thead th {\n",
              "        text-align: right;\n",
              "    }\n",
              "</style>\n",
              "<table border=\"1\" class=\"dataframe\">\n",
              "  <thead>\n",
              "    <tr style=\"text-align: right;\">\n",
              "      <th></th>\n",
              "      <th>MAL_ID</th>\n",
              "      <th>Name</th>\n",
              "      <th>Score</th>\n",
              "      <th>Genders</th>\n",
              "      <th>English name</th>\n",
              "      <th>Japanese name</th>\n",
              "      <th>Type</th>\n",
              "      <th>Episodes</th>\n",
              "      <th>Aired</th>\n",
              "      <th>Premiered</th>\n",
              "      <th>Producers</th>\n",
              "      <th>Licensors</th>\n",
              "      <th>Studios</th>\n",
              "      <th>Source</th>\n",
              "      <th>Duration</th>\n",
              "      <th>Rating</th>\n",
              "      <th>Ranked</th>\n",
              "      <th>Popularity</th>\n",
              "      <th>Members</th>\n",
              "      <th>Favorites</th>\n",
              "      <th>Watching</th>\n",
              "      <th>Completed</th>\n",
              "      <th>On-Hold</th>\n",
              "      <th>Dropped</th>\n",
              "      <th>Plan to Watch</th>\n",
              "      <th>Score-10</th>\n",
              "      <th>Score-9</th>\n",
              "      <th>Score-8</th>\n",
              "      <th>Score-7</th>\n",
              "      <th>Score-6</th>\n",
              "      <th>Score-5</th>\n",
              "      <th>Score-4</th>\n",
              "      <th>Score-3</th>\n",
              "      <th>Score-2</th>\n",
              "      <th>Score-1</th>\n",
              "    </tr>\n",
              "  </thead>\n",
              "  <tbody>\n",
              "    <tr>\n",
              "      <th>0</th>\n",
              "      <td>1</td>\n",
              "      <td>Cowboy Bebop</td>\n",
              "      <td>8.78</td>\n",
              "      <td>Action, Adventure, Comedy, Drama, Sci-Fi, Space</td>\n",
              "      <td>Cowboy Bebop</td>\n",
              "      <td>カウボーイビバップ</td>\n",
              "      <td>TV</td>\n",
              "      <td>26</td>\n",
              "      <td>Apr 3, 1998 to Apr 24, 1999</td>\n",
              "      <td>Spring 1998</td>\n",
              "      <td>Bandai Visual</td>\n",
              "      <td>Funimation, Bandai Entertainment</td>\n",
              "      <td>Sunrise</td>\n",
              "      <td>Original</td>\n",
              "      <td>24 min. per ep.</td>\n",
              "      <td>R - 17+ (violence &amp; profanity)</td>\n",
              "      <td>28.0</td>\n",
              "      <td>39</td>\n",
              "      <td>1251960</td>\n",
              "      <td>61971</td>\n",
              "      <td>105808</td>\n",
              "      <td>718161</td>\n",
              "      <td>71513</td>\n",
              "      <td>26678</td>\n",
              "      <td>329800</td>\n",
              "      <td>229170.0</td>\n",
              "      <td>182126.0</td>\n",
              "      <td>131625.0</td>\n",
              "      <td>62330.0</td>\n",
              "      <td>20688.0</td>\n",
              "      <td>8904.0</td>\n",
              "      <td>3184.0</td>\n",
              "      <td>1357.0</td>\n",
              "      <td>741.0</td>\n",
              "      <td>1580.0</td>\n",
              "    </tr>\n",
              "    <tr>\n",
              "      <th>1</th>\n",
              "      <td>5</td>\n",
              "      <td>Cowboy Bebop: Tengoku no Tobira</td>\n",
              "      <td>8.39</td>\n",
              "      <td>Action, Drama, Mystery, Sci-Fi, Space</td>\n",
              "      <td>Cowboy Bebop:The Movie</td>\n",
              "      <td>カウボーイビバップ 天国の扉</td>\n",
              "      <td>Movie</td>\n",
              "      <td>1</td>\n",
              "      <td>Sep 1, 2001</td>\n",
              "      <td>Unknown</td>\n",
              "      <td>Sunrise, Bandai Visual</td>\n",
              "      <td>Sony Pictures Entertainment</td>\n",
              "      <td>Bones</td>\n",
              "      <td>Original</td>\n",
              "      <td>1 hr. 55 min.</td>\n",
              "      <td>R - 17+ (violence &amp; profanity)</td>\n",
              "      <td>159.0</td>\n",
              "      <td>518</td>\n",
              "      <td>273145</td>\n",
              "      <td>1174</td>\n",
              "      <td>4143</td>\n",
              "      <td>208333</td>\n",
              "      <td>1935</td>\n",
              "      <td>770</td>\n",
              "      <td>57964</td>\n",
              "      <td>30043.0</td>\n",
              "      <td>49201.0</td>\n",
              "      <td>49505.0</td>\n",
              "      <td>22632.0</td>\n",
              "      <td>5805.0</td>\n",
              "      <td>1877.0</td>\n",
              "      <td>577.0</td>\n",
              "      <td>221.0</td>\n",
              "      <td>109.0</td>\n",
              "      <td>379.0</td>\n",
              "    </tr>\n",
              "    <tr>\n",
              "      <th>2</th>\n",
              "      <td>6</td>\n",
              "      <td>Trigun</td>\n",
              "      <td>8.24</td>\n",
              "      <td>Action, Sci-Fi, Adventure, Comedy, Drama, Shounen</td>\n",
              "      <td>Trigun</td>\n",
              "      <td>トライガン</td>\n",
              "      <td>TV</td>\n",
              "      <td>26</td>\n",
              "      <td>Apr 1, 1998 to Sep 30, 1998</td>\n",
              "      <td>Spring 1998</td>\n",
              "      <td>Victor Entertainment</td>\n",
              "      <td>Funimation, Geneon Entertainment USA</td>\n",
              "      <td>Madhouse</td>\n",
              "      <td>Manga</td>\n",
              "      <td>24 min. per ep.</td>\n",
              "      <td>PG-13 - Teens 13 or older</td>\n",
              "      <td>266.0</td>\n",
              "      <td>201</td>\n",
              "      <td>558913</td>\n",
              "      <td>12944</td>\n",
              "      <td>29113</td>\n",
              "      <td>343492</td>\n",
              "      <td>25465</td>\n",
              "      <td>13925</td>\n",
              "      <td>146918</td>\n",
              "      <td>50229.0</td>\n",
              "      <td>75651.0</td>\n",
              "      <td>86142.0</td>\n",
              "      <td>49432.0</td>\n",
              "      <td>15376.0</td>\n",
              "      <td>5838.0</td>\n",
              "      <td>1965.0</td>\n",
              "      <td>664.0</td>\n",
              "      <td>316.0</td>\n",
              "      <td>533.0</td>\n",
              "    </tr>\n",
              "    <tr>\n",
              "      <th>3</th>\n",
              "      <td>7</td>\n",
              "      <td>Witch Hunter Robin</td>\n",
              "      <td>7.27</td>\n",
              "      <td>Action, Mystery, Police, Supernatural, Drama, ...</td>\n",
              "      <td>Witch Hunter Robin</td>\n",
              "      <td>Witch Hunter ROBIN (ウイッチハンターロビン)</td>\n",
              "      <td>TV</td>\n",
              "      <td>26</td>\n",
              "      <td>Jul 2, 2002 to Dec 24, 2002</td>\n",
              "      <td>Summer 2002</td>\n",
              "      <td>TV Tokyo, Bandai Visual, Dentsu, Victor Entert...</td>\n",
              "      <td>Funimation, Bandai Entertainment</td>\n",
              "      <td>Sunrise</td>\n",
              "      <td>Original</td>\n",
              "      <td>25 min. per ep.</td>\n",
              "      <td>PG-13 - Teens 13 or older</td>\n",
              "      <td>2481.0</td>\n",
              "      <td>1467</td>\n",
              "      <td>94683</td>\n",
              "      <td>587</td>\n",
              "      <td>4300</td>\n",
              "      <td>46165</td>\n",
              "      <td>5121</td>\n",
              "      <td>5378</td>\n",
              "      <td>33719</td>\n",
              "      <td>2182.0</td>\n",
              "      <td>4806.0</td>\n",
              "      <td>10128.0</td>\n",
              "      <td>11618.0</td>\n",
              "      <td>5709.0</td>\n",
              "      <td>2920.0</td>\n",
              "      <td>1083.0</td>\n",
              "      <td>353.0</td>\n",
              "      <td>164.0</td>\n",
              "      <td>131.0</td>\n",
              "    </tr>\n",
              "    <tr>\n",
              "      <th>4</th>\n",
              "      <td>8</td>\n",
              "      <td>Bouken Ou Beet</td>\n",
              "      <td>6.98</td>\n",
              "      <td>Adventure, Fantasy, Shounen, Supernatural</td>\n",
              "      <td>Beet the Vandel Buster</td>\n",
              "      <td>冒険王ビィト</td>\n",
              "      <td>TV</td>\n",
              "      <td>52</td>\n",
              "      <td>Sep 30, 2004 to Sep 29, 2005</td>\n",
              "      <td>Fall 2004</td>\n",
              "      <td>TV Tokyo, Dentsu</td>\n",
              "      <td>Unknown</td>\n",
              "      <td>Toei Animation</td>\n",
              "      <td>Manga</td>\n",
              "      <td>23 min. per ep.</td>\n",
              "      <td>PG - Children</td>\n",
              "      <td>3710.0</td>\n",
              "      <td>4369</td>\n",
              "      <td>13224</td>\n",
              "      <td>18</td>\n",
              "      <td>642</td>\n",
              "      <td>7314</td>\n",
              "      <td>766</td>\n",
              "      <td>1108</td>\n",
              "      <td>3394</td>\n",
              "      <td>312.0</td>\n",
              "      <td>529.0</td>\n",
              "      <td>1242.0</td>\n",
              "      <td>1713.0</td>\n",
              "      <td>1068.0</td>\n",
              "      <td>634.0</td>\n",
              "      <td>265.0</td>\n",
              "      <td>83.0</td>\n",
              "      <td>50.0</td>\n",
              "      <td>27.0</td>\n",
              "    </tr>\n",
              "  </tbody>\n",
              "</table>\n",
              "</div>"
            ],
            "text/plain": [
              "   MAL_ID                             Name Score  ... Score-3 Score-2 Score-1\n",
              "0       1                     Cowboy Bebop  8.78  ...  1357.0   741.0  1580.0\n",
              "1       5  Cowboy Bebop: Tengoku no Tobira  8.39  ...   221.0   109.0   379.0\n",
              "2       6                           Trigun  8.24  ...   664.0   316.0   533.0\n",
              "3       7               Witch Hunter Robin  7.27  ...   353.0   164.0   131.0\n",
              "4       8                   Bouken Ou Beet  6.98  ...    83.0    50.0    27.0\n",
              "\n",
              "[5 rows x 35 columns]"
            ]
          },
          "metadata": {
            "tags": []
          },
          "execution_count": 3
        }
      ]
    },
    {
      "cell_type": "markdown",
      "metadata": {
        "id": "about-dragon"
      },
      "source": [
        "Check for NaN/null values across all columns"
      ],
      "id": "about-dragon"
    },
    {
      "cell_type": "code",
      "metadata": {
        "colab": {
          "base_uri": "https://localhost:8080/"
        },
        "id": "quality-moisture",
        "outputId": "5eaf3b2f-f4e0-4f67-b8fe-08c3b8ec3794"
      },
      "source": [
        "anime_features.isnull().sum()"
      ],
      "id": "quality-moisture",
      "execution_count": null,
      "outputs": [
        {
          "output_type": "execute_result",
          "data": {
            "text/plain": [
              "MAL_ID           0\n",
              "Name             0\n",
              "Score            0\n",
              "Genders          0\n",
              "English name     0\n",
              "Japanese name    0\n",
              "Type             0\n",
              "Episodes         0\n",
              "Aired            0\n",
              "Premiered        0\n",
              "Producers        0\n",
              "Licensors        0\n",
              "Studios          0\n",
              "Source           0\n",
              "Duration         0\n",
              "Rating           0\n",
              "Ranked           0\n",
              "Popularity       0\n",
              "Members          0\n",
              "Favorites        0\n",
              "Watching         0\n",
              "Completed        0\n",
              "On-Hold          0\n",
              "Dropped          0\n",
              "Plan to Watch    0\n",
              "Score-10         0\n",
              "Score-9          0\n",
              "Score-8          0\n",
              "Score-7          0\n",
              "Score-6          0\n",
              "Score-5          0\n",
              "Score-4          0\n",
              "Score-3          0\n",
              "Score-2          0\n",
              "Score-1          0\n",
              "dtype: int64"
            ]
          },
          "metadata": {
            "tags": []
          },
          "execution_count": 4
        }
      ]
    },
    {
      "cell_type": "markdown",
      "metadata": {
        "id": "figured-headline"
      },
      "source": [
        "animelist.csv is the most prolific dataset and we anticipate that it should be enough to compute accurate and reliable ratings."
      ],
      "id": "figured-headline"
    },
    {
      "cell_type": "code",
      "metadata": {
        "colab": {
          "base_uri": "https://localhost:8080/"
        },
        "id": "first-launch",
        "outputId": "e5bcb612-70d7-446f-97d4-f6ec824ff97f"
      },
      "source": [
        "anime_features.rename({'Genders':'Genres'}, axis = 1, inplace = True)\n",
        "anime_features.columns"
      ],
      "id": "first-launch",
      "execution_count": null,
      "outputs": [
        {
          "output_type": "execute_result",
          "data": {
            "text/plain": [
              "Index(['MAL_ID', 'Name', 'Score', 'Genres', 'English name', 'Japanese name',\n",
              "       'Type', 'Episodes', 'Aired', 'Premiered', 'Producers', 'Licensors',\n",
              "       'Studios', 'Source', 'Duration', 'Rating', 'Ranked', 'Popularity',\n",
              "       'Members', 'Favorites', 'Watching', 'Completed', 'On-Hold', 'Dropped',\n",
              "       'Plan to Watch', 'Score-10', 'Score-9', 'Score-8', 'Score-7', 'Score-6',\n",
              "       'Score-5', 'Score-4', 'Score-3', 'Score-2', 'Score-1'],\n",
              "      dtype='object')"
            ]
          },
          "metadata": {
            "tags": []
          },
          "execution_count": 5
        }
      ]
    },
    {
      "cell_type": "code",
      "metadata": {
        "id": "former-aging"
      },
      "source": [
        "def imputeMeanValues(feature):\n",
        "    \"\"\"\n",
        "    Takes in the data column and replaces 'Unknown' values with mean of the column values.\n",
        "    \n",
        "    \"\"\"\n",
        "    \n",
        "    feature.replace({'Unknown':0}, inplace = True)\n",
        "    feature = feature.astype('float64')\n",
        "    mean = feature.mean()\n",
        "    feature.replace({0:mean}, inplace = True)\n",
        "    return feature\n",
        "      "
      ],
      "id": "former-aging",
      "execution_count": null,
      "outputs": []
    },
    {
      "cell_type": "markdown",
      "metadata": {
        "id": "TSEBs6yJlfwI"
      },
      "source": [
        "## EDA\n",
        "\n",
        "We first performed EDA to gain some insights in some interesting questions. \n"
      ],
      "id": "TSEBs6yJlfwI"
    },
    {
      "cell_type": "markdown",
      "metadata": {
        "id": "g5zAoNV6mo40"
      },
      "source": [
        "#### What genres are more common in top 100 anime? \n",
        "Our company may focus on including more animes from the popular genres. We may even produce our own anime that fall under these popular genres. (Some streaming platforms produce their own anime in order to reduce the cost of purchasing anime.)\n"
      ],
      "id": "g5zAoNV6mo40"
    },
    {
      "cell_type": "code",
      "metadata": {
        "colab": {
          "base_uri": "https://localhost:8080/",
          "height": 1000
        },
        "id": "HUiUpsPLbxzK",
        "outputId": "af2cd636-879e-4c89-fa4f-ea3e35338f58"
      },
      "source": [
        "# Sort anime by score and select the top 100 \n",
        "dataset = anime_features.copy()\n",
        "dataset.Score = imputeMeanValues(dataset.Score)\n",
        "top_100 = dataset.sort_values(['Score'], ascending=False).head(100)\n",
        "top_100.head(10)"
      ],
      "id": "HUiUpsPLbxzK",
      "execution_count": null,
      "outputs": [
        {
          "output_type": "execute_result",
          "data": {
            "text/html": [
              "<div>\n",
              "<style scoped>\n",
              "    .dataframe tbody tr th:only-of-type {\n",
              "        vertical-align: middle;\n",
              "    }\n",
              "\n",
              "    .dataframe tbody tr th {\n",
              "        vertical-align: top;\n",
              "    }\n",
              "\n",
              "    .dataframe thead th {\n",
              "        text-align: right;\n",
              "    }\n",
              "</style>\n",
              "<table border=\"1\" class=\"dataframe\">\n",
              "  <thead>\n",
              "    <tr style=\"text-align: right;\">\n",
              "      <th></th>\n",
              "      <th>MAL_ID</th>\n",
              "      <th>Name</th>\n",
              "      <th>Score</th>\n",
              "      <th>Genres</th>\n",
              "      <th>English name</th>\n",
              "      <th>Japanese name</th>\n",
              "      <th>Type</th>\n",
              "      <th>Episodes</th>\n",
              "      <th>Aired</th>\n",
              "      <th>Premiered</th>\n",
              "      <th>Producers</th>\n",
              "      <th>Licensors</th>\n",
              "      <th>Studios</th>\n",
              "      <th>Source</th>\n",
              "      <th>Duration</th>\n",
              "      <th>Rating</th>\n",
              "      <th>Ranked</th>\n",
              "      <th>Popularity</th>\n",
              "      <th>Members</th>\n",
              "      <th>Favorites</th>\n",
              "      <th>Watching</th>\n",
              "      <th>Completed</th>\n",
              "      <th>On-Hold</th>\n",
              "      <th>Dropped</th>\n",
              "      <th>Plan to Watch</th>\n",
              "      <th>Score-10</th>\n",
              "      <th>Score-9</th>\n",
              "      <th>Score-8</th>\n",
              "      <th>Score-7</th>\n",
              "      <th>Score-6</th>\n",
              "      <th>Score-5</th>\n",
              "      <th>Score-4</th>\n",
              "      <th>Score-3</th>\n",
              "      <th>Score-2</th>\n",
              "      <th>Score-1</th>\n",
              "    </tr>\n",
              "  </thead>\n",
              "  <tbody>\n",
              "    <tr>\n",
              "      <th>3971</th>\n",
              "      <td>5114</td>\n",
              "      <td>Fullmetal Alchemist: Brotherhood</td>\n",
              "      <td>9.19</td>\n",
              "      <td>Action, Military, Adventure, Comedy, Drama, Ma...</td>\n",
              "      <td>Fullmetal Alchemist:Brotherhood</td>\n",
              "      <td>鋼の錬金術師 FULLMETAL ALCHEMIST</td>\n",
              "      <td>TV</td>\n",
              "      <td>64</td>\n",
              "      <td>Apr 5, 2009 to Jul 4, 2010</td>\n",
              "      <td>Spring 2009</td>\n",
              "      <td>Aniplex, Square Enix, Mainichi Broadcasting Sy...</td>\n",
              "      <td>Funimation, Aniplex of America</td>\n",
              "      <td>Bones</td>\n",
              "      <td>Manga</td>\n",
              "      <td>24 min. per ep.</td>\n",
              "      <td>R - 17+ (violence &amp; profanity)</td>\n",
              "      <td>1.0</td>\n",
              "      <td>3</td>\n",
              "      <td>2248456</td>\n",
              "      <td>183914</td>\n",
              "      <td>171871</td>\n",
              "      <td>1644938</td>\n",
              "      <td>75728</td>\n",
              "      <td>32456</td>\n",
              "      <td>323463</td>\n",
              "      <td>714811.0</td>\n",
              "      <td>401507.0</td>\n",
              "      <td>199160.0</td>\n",
              "      <td>70045.0</td>\n",
              "      <td>20210.0</td>\n",
              "      <td>9308.0</td>\n",
              "      <td>3222.0</td>\n",
              "      <td>1536.0</td>\n",
              "      <td>2162.0</td>\n",
              "      <td>16806.0</td>\n",
              "    </tr>\n",
              "    <tr>\n",
              "      <th>15926</th>\n",
              "      <td>40028</td>\n",
              "      <td>Shingeki no Kyojin: The Final Season</td>\n",
              "      <td>9.17</td>\n",
              "      <td>Action, Military, Mystery, Super Power, Drama,...</td>\n",
              "      <td>Attack on Titan Final Season</td>\n",
              "      <td>進撃の巨人 The Final Season</td>\n",
              "      <td>TV</td>\n",
              "      <td>16</td>\n",
              "      <td>Dec 7, 2020 to ?</td>\n",
              "      <td>Winter 2021</td>\n",
              "      <td>Production I.G, Dentsu, Mainichi Broadcasting ...</td>\n",
              "      <td>Funimation</td>\n",
              "      <td>MAPPA</td>\n",
              "      <td>Manga</td>\n",
              "      <td>23 min. per ep.</td>\n",
              "      <td>R - 17+ (violence &amp; profanity)</td>\n",
              "      <td>2.0</td>\n",
              "      <td>119</td>\n",
              "      <td>733260</td>\n",
              "      <td>44862</td>\n",
              "      <td>566239</td>\n",
              "      <td>553</td>\n",
              "      <td>6658</td>\n",
              "      <td>2090</td>\n",
              "      <td>157720</td>\n",
              "      <td>173154.0</td>\n",
              "      <td>63756.0</td>\n",
              "      <td>26016.0</td>\n",
              "      <td>8793.0</td>\n",
              "      <td>2674.0</td>\n",
              "      <td>1336.0</td>\n",
              "      <td>588.0</td>\n",
              "      <td>382.0</td>\n",
              "      <td>514.0</td>\n",
              "      <td>11061.0</td>\n",
              "    </tr>\n",
              "    <tr>\n",
              "      <th>5683</th>\n",
              "      <td>9253</td>\n",
              "      <td>Steins;Gate</td>\n",
              "      <td>9.11</td>\n",
              "      <td>Thriller, Sci-Fi</td>\n",
              "      <td>Steins;Gate</td>\n",
              "      <td>STEINS;GATE</td>\n",
              "      <td>TV</td>\n",
              "      <td>24</td>\n",
              "      <td>Apr 6, 2011 to Sep 14, 2011</td>\n",
              "      <td>Spring 2011</td>\n",
              "      <td>Frontier Works, Media Factory, Movic, AT-X, Ka...</td>\n",
              "      <td>Funimation</td>\n",
              "      <td>White Fox</td>\n",
              "      <td>Visual novel</td>\n",
              "      <td>24 min. per ep.</td>\n",
              "      <td>PG-13 - Teens 13 or older</td>\n",
              "      <td>3.0</td>\n",
              "      <td>9</td>\n",
              "      <td>1771162</td>\n",
              "      <td>148452</td>\n",
              "      <td>114349</td>\n",
              "      <td>1134756</td>\n",
              "      <td>60926</td>\n",
              "      <td>35600</td>\n",
              "      <td>425531</td>\n",
              "      <td>468504.0</td>\n",
              "      <td>275960.0</td>\n",
              "      <td>140914.0</td>\n",
              "      <td>57740.0</td>\n",
              "      <td>21375.0</td>\n",
              "      <td>11126.0</td>\n",
              "      <td>5061.0</td>\n",
              "      <td>2292.0</td>\n",
              "      <td>1678.0</td>\n",
              "      <td>5255.0</td>\n",
              "    </tr>\n",
              "    <tr>\n",
              "      <th>14963</th>\n",
              "      <td>38524</td>\n",
              "      <td>Shingeki no Kyojin Season 3 Part 2</td>\n",
              "      <td>9.10</td>\n",
              "      <td>Action, Drama, Fantasy, Military, Mystery, Sho...</td>\n",
              "      <td>Attack on Titan Season 3 Part 2</td>\n",
              "      <td>進撃の巨人 Season3 Part.2</td>\n",
              "      <td>TV</td>\n",
              "      <td>10</td>\n",
              "      <td>Apr 29, 2019 to Jul 1, 2019</td>\n",
              "      <td>Spring 2019</td>\n",
              "      <td>Production I.G, Dentsu, Mainichi Broadcasting ...</td>\n",
              "      <td>Funimation</td>\n",
              "      <td>Wit Studio</td>\n",
              "      <td>Manga</td>\n",
              "      <td>23 min. per ep.</td>\n",
              "      <td>R - 17+ (violence &amp; profanity)</td>\n",
              "      <td>4.0</td>\n",
              "      <td>63</td>\n",
              "      <td>1073626</td>\n",
              "      <td>40985</td>\n",
              "      <td>54607</td>\n",
              "      <td>906824</td>\n",
              "      <td>5533</td>\n",
              "      <td>3099</td>\n",
              "      <td>103563</td>\n",
              "      <td>327290.0</td>\n",
              "      <td>239451.0</td>\n",
              "      <td>110481.0</td>\n",
              "      <td>33662.0</td>\n",
              "      <td>8365.0</td>\n",
              "      <td>2974.0</td>\n",
              "      <td>1108.0</td>\n",
              "      <td>550.0</td>\n",
              "      <td>385.0</td>\n",
              "      <td>4169.0</td>\n",
              "    </tr>\n",
              "    <tr>\n",
              "      <th>9913</th>\n",
              "      <td>28977</td>\n",
              "      <td>Gintama°</td>\n",
              "      <td>9.10</td>\n",
              "      <td>Action, Comedy, Historical, Parody, Samurai, S...</td>\n",
              "      <td>Gintama Season 4</td>\n",
              "      <td>銀魂°</td>\n",
              "      <td>TV</td>\n",
              "      <td>51</td>\n",
              "      <td>Apr 8, 2015 to Mar 30, 2016</td>\n",
              "      <td>Spring 2015</td>\n",
              "      <td>TV Tokyo, Aniplex, Dentsu</td>\n",
              "      <td>Funimation, Crunchyroll</td>\n",
              "      <td>Bandai Namco Pictures</td>\n",
              "      <td>Manga</td>\n",
              "      <td>24 min. per ep.</td>\n",
              "      <td>PG-13 - Teens 13 or older</td>\n",
              "      <td>5.0</td>\n",
              "      <td>329</td>\n",
              "      <td>404121</td>\n",
              "      <td>11868</td>\n",
              "      <td>48011</td>\n",
              "      <td>167130</td>\n",
              "      <td>16612</td>\n",
              "      <td>11472</td>\n",
              "      <td>160896</td>\n",
              "      <td>78918.0</td>\n",
              "      <td>37902.0</td>\n",
              "      <td>21360.0</td>\n",
              "      <td>10215.0</td>\n",
              "      <td>3898.0</td>\n",
              "      <td>2311.0</td>\n",
              "      <td>952.0</td>\n",
              "      <td>648.0</td>\n",
              "      <td>1100.0</td>\n",
              "      <td>4508.0</td>\n",
              "    </tr>\n",
              "    <tr>\n",
              "      <th>6474</th>\n",
              "      <td>11061</td>\n",
              "      <td>Hunter x Hunter (2011)</td>\n",
              "      <td>9.10</td>\n",
              "      <td>Action, Adventure, Fantasy, Shounen, Super Power</td>\n",
              "      <td>Hunter x Hunter</td>\n",
              "      <td>HUNTER×HUNTER（ハンター×ハンター）</td>\n",
              "      <td>TV</td>\n",
              "      <td>148</td>\n",
              "      <td>Oct 2, 2011 to Sep 24, 2014</td>\n",
              "      <td>Fall 2011</td>\n",
              "      <td>VAP, Nippon Television Network, Shueisha</td>\n",
              "      <td>VIZ Media</td>\n",
              "      <td>Madhouse</td>\n",
              "      <td>Manga</td>\n",
              "      <td>23 min. per ep.</td>\n",
              "      <td>PG-13 - Teens 13 or older</td>\n",
              "      <td>6.0</td>\n",
              "      <td>12</td>\n",
              "      <td>1673924</td>\n",
              "      <td>147274</td>\n",
              "      <td>227277</td>\n",
              "      <td>1094486</td>\n",
              "      <td>79587</td>\n",
              "      <td>31652</td>\n",
              "      <td>240922</td>\n",
              "      <td>454000.0</td>\n",
              "      <td>304741.0</td>\n",
              "      <td>167331.0</td>\n",
              "      <td>65085.0</td>\n",
              "      <td>18241.0</td>\n",
              "      <td>7789.0</td>\n",
              "      <td>2780.0</td>\n",
              "      <td>1243.0</td>\n",
              "      <td>1054.0</td>\n",
              "      <td>4602.0</td>\n",
              "    </tr>\n",
              "    <tr>\n",
              "      <th>6006</th>\n",
              "      <td>9969</td>\n",
              "      <td>Gintama'</td>\n",
              "      <td>9.08</td>\n",
              "      <td>Action, Sci-Fi, Comedy, Historical, Parody, Sa...</td>\n",
              "      <td>Gintama Season 2</td>\n",
              "      <td>銀魂'</td>\n",
              "      <td>TV</td>\n",
              "      <td>51</td>\n",
              "      <td>Apr 4, 2011 to Mar 26, 2012</td>\n",
              "      <td>Spring 2011</td>\n",
              "      <td>TV Tokyo, Aniplex, Dentsu, Trinity Sound, Mira...</td>\n",
              "      <td>Unknown</td>\n",
              "      <td>Sunrise</td>\n",
              "      <td>Manga</td>\n",
              "      <td>24 min. per ep.</td>\n",
              "      <td>PG-13 - Teens 13 or older</td>\n",
              "      <td>7.0</td>\n",
              "      <td>362</td>\n",
              "      <td>365579</td>\n",
              "      <td>6567</td>\n",
              "      <td>26492</td>\n",
              "      <td>190008</td>\n",
              "      <td>10615</td>\n",
              "      <td>7084</td>\n",
              "      <td>131380</td>\n",
              "      <td>74992.0</td>\n",
              "      <td>44740.0</td>\n",
              "      <td>24294.0</td>\n",
              "      <td>9584.0</td>\n",
              "      <td>3222.0</td>\n",
              "      <td>1655.0</td>\n",
              "      <td>694.0</td>\n",
              "      <td>338.0</td>\n",
              "      <td>437.0</td>\n",
              "      <td>2910.0</td>\n",
              "    </tr>\n",
              "    <tr>\n",
              "      <th>741</th>\n",
              "      <td>820</td>\n",
              "      <td>Ginga Eiyuu Densetsu</td>\n",
              "      <td>9.07</td>\n",
              "      <td>Military, Sci-Fi, Space, Drama</td>\n",
              "      <td>Legend of the Galactic Heroes</td>\n",
              "      <td>銀河英雄伝説</td>\n",
              "      <td>OVA</td>\n",
              "      <td>110</td>\n",
              "      <td>Jan 8, 1988 to Mar 17, 1997</td>\n",
              "      <td>Unknown</td>\n",
              "      <td>Kitty Films, K-Factory</td>\n",
              "      <td>Sentai Filmworks</td>\n",
              "      <td>Artland, Magic Bus</td>\n",
              "      <td>Novel</td>\n",
              "      <td>26 min. per ep.</td>\n",
              "      <td>R - 17+ (violence &amp; profanity)</td>\n",
              "      <td>7.0</td>\n",
              "      <td>633</td>\n",
              "      <td>230168</td>\n",
              "      <td>13834</td>\n",
              "      <td>25968</td>\n",
              "      <td>52583</td>\n",
              "      <td>14911</td>\n",
              "      <td>5950</td>\n",
              "      <td>130756</td>\n",
              "      <td>30432.0</td>\n",
              "      <td>11497.0</td>\n",
              "      <td>7096.0</td>\n",
              "      <td>3577.0</td>\n",
              "      <td>1570.0</td>\n",
              "      <td>965.0</td>\n",
              "      <td>480.0</td>\n",
              "      <td>264.0</td>\n",
              "      <td>509.0</td>\n",
              "      <td>2265.0</td>\n",
              "    </tr>\n",
              "    <tr>\n",
              "      <th>7261</th>\n",
              "      <td>15417</td>\n",
              "      <td>Gintama': Enchousen</td>\n",
              "      <td>9.04</td>\n",
              "      <td>Action, Comedy, Historical, Parody, Samurai, S...</td>\n",
              "      <td>Gintama:Enchousen</td>\n",
              "      <td>銀魂' 延長戦</td>\n",
              "      <td>TV</td>\n",
              "      <td>13</td>\n",
              "      <td>Oct 4, 2012 to Mar 28, 2013</td>\n",
              "      <td>Fall 2012</td>\n",
              "      <td>TV Tokyo, Aniplex, Dentsu, Shueisha, Miracle Bus</td>\n",
              "      <td>Unknown</td>\n",
              "      <td>Sunrise</td>\n",
              "      <td>Manga</td>\n",
              "      <td>24 min. per ep.</td>\n",
              "      <td>PG-13 - Teens 13 or older</td>\n",
              "      <td>9.0</td>\n",
              "      <td>660</td>\n",
              "      <td>222819</td>\n",
              "      <td>2586</td>\n",
              "      <td>7800</td>\n",
              "      <td>143353</td>\n",
              "      <td>2753</td>\n",
              "      <td>2012</td>\n",
              "      <td>66901</td>\n",
              "      <td>51383.0</td>\n",
              "      <td>32100.0</td>\n",
              "      <td>17753.0</td>\n",
              "      <td>6900.0</td>\n",
              "      <td>1968.0</td>\n",
              "      <td>867.0</td>\n",
              "      <td>303.0</td>\n",
              "      <td>184.0</td>\n",
              "      <td>145.0</td>\n",
              "      <td>2059.0</td>\n",
              "    </tr>\n",
              "    <tr>\n",
              "      <th>12898</th>\n",
              "      <td>35180</td>\n",
              "      <td>3-gatsu no Lion 2nd Season</td>\n",
              "      <td>9.00</td>\n",
              "      <td>Drama, Game, Seinen, Slice of Life</td>\n",
              "      <td>March Comes In Like A Lion 2nd Season</td>\n",
              "      <td>3月のライオン 第2シリーズ</td>\n",
              "      <td>TV</td>\n",
              "      <td>22</td>\n",
              "      <td>Oct 14, 2017 to Mar 31, 2018</td>\n",
              "      <td>Fall 2017</td>\n",
              "      <td>Aniplex, Dentsu, NHK, Hakusensha, Asmik Ace, T...</td>\n",
              "      <td>Aniplex of America</td>\n",
              "      <td>Shaft</td>\n",
              "      <td>Manga</td>\n",
              "      <td>25 min. per ep.</td>\n",
              "      <td>PG-13 - Teens 13 or older</td>\n",
              "      <td>10.0</td>\n",
              "      <td>545</td>\n",
              "      <td>266243</td>\n",
              "      <td>11133</td>\n",
              "      <td>20273</td>\n",
              "      <td>148885</td>\n",
              "      <td>7103</td>\n",
              "      <td>3166</td>\n",
              "      <td>86816</td>\n",
              "      <td>52442.0</td>\n",
              "      <td>42572.0</td>\n",
              "      <td>23376.0</td>\n",
              "      <td>8143.0</td>\n",
              "      <td>2371.0</td>\n",
              "      <td>934.0</td>\n",
              "      <td>326.0</td>\n",
              "      <td>165.0</td>\n",
              "      <td>90.0</td>\n",
              "      <td>799.0</td>\n",
              "    </tr>\n",
              "  </tbody>\n",
              "</table>\n",
              "</div>"
            ],
            "text/plain": [
              "       MAL_ID                                  Name  ...  Score-2  Score-1\n",
              "3971     5114      Fullmetal Alchemist: Brotherhood  ...   2162.0  16806.0\n",
              "15926   40028  Shingeki no Kyojin: The Final Season  ...    514.0  11061.0\n",
              "5683     9253                           Steins;Gate  ...   1678.0   5255.0\n",
              "14963   38524    Shingeki no Kyojin Season 3 Part 2  ...    385.0   4169.0\n",
              "9913    28977                              Gintama°  ...   1100.0   4508.0\n",
              "6474    11061                Hunter x Hunter (2011)  ...   1054.0   4602.0\n",
              "6006     9969                              Gintama'  ...    437.0   2910.0\n",
              "741       820                  Ginga Eiyuu Densetsu  ...    509.0   2265.0\n",
              "7261    15417                   Gintama': Enchousen  ...    145.0   2059.0\n",
              "12898   35180            3-gatsu no Lion 2nd Season  ...     90.0    799.0\n",
              "\n",
              "[10 rows x 35 columns]"
            ]
          },
          "metadata": {
            "tags": []
          },
          "execution_count": 7
        }
      ]
    },
    {
      "cell_type": "code",
      "metadata": {
        "colab": {
          "base_uri": "https://localhost:8080/"
        },
        "id": "RTpoiLcNDQBj",
        "outputId": "e51936e0-e38d-4905-f218-56eb0a4130d2"
      },
      "source": [
        "# For anime with more than 1 genres, split them into separate rows\n",
        "top_genres = pd.concat([pd.Series(row['Score'], row['Genres'].replace(\" \", '').split(','))              \n",
        "                   for _, row in top_100.iterrows()]).reset_index()\n",
        "top_genres.rename({'index': 'Genres', 0:'Score'}, axis = 1, inplace = True)\n",
        "top_genres.Genres.value_counts()"
      ],
      "id": "RTpoiLcNDQBj",
      "execution_count": null,
      "outputs": [
        {
          "output_type": "execute_result",
          "data": {
            "text/plain": [
              "Drama            52\n",
              "Comedy           42\n",
              "Shounen          41\n",
              "Action           41\n",
              "Supernatural     31\n",
              "Sci-Fi           27\n",
              "Historical       24\n",
              "Fantasy          24\n",
              "SliceofLife      24\n",
              "Mystery          21\n",
              "Adventure        19\n",
              "School           17\n",
              "Parody           14\n",
              "Romance          14\n",
              "Samurai          13\n",
              "Seinen           13\n",
              "Sports           11\n",
              "SuperPower        9\n",
              "Demons            8\n",
              "Psychological     8\n",
              "Military          8\n",
              "Thriller          7\n",
              "Shoujo            6\n",
              "Mecha             6\n",
              "Magic             5\n",
              "Vampire           4\n",
              "Space             4\n",
              "Josei             3\n",
              "Police            3\n",
              "Game              2\n",
              "Horror            2\n",
              "Music             1\n",
              "MartialArts       1\n",
              "Dementia          1\n",
              "Name: Genres, dtype: int64"
            ]
          },
          "metadata": {
            "tags": []
          },
          "execution_count": 8
        }
      ]
    },
    {
      "cell_type": "markdown",
      "metadata": {
        "id": "f8wJQkl7c4Yj"
      },
      "source": [
        "The result suggests that Drama, Comedy, Action, Shounen, and Supernatural are the top 5 most common genres that the top 100 anime fall under. "
      ],
      "id": "f8wJQkl7c4Yj"
    },
    {
      "cell_type": "markdown",
      "metadata": {
        "id": "gCOL6PEYmXiU"
      },
      "source": [
        "#### What studios are likely to produce more popular anime? \n",
        "Our company may be interested in collaborating with these studios in the long term.\n",
        "\n",
        "\n"
      ],
      "id": "gCOL6PEYmXiU"
    },
    {
      "cell_type": "code",
      "metadata": {
        "id": "0-myBCys6Ypv"
      },
      "source": [
        "# Some anime are produced by multiple studios, split these into separate rows\n",
        "studio_feat = pd.concat([pd.Series(row['Score'], row['Studios'].replace(\" \", '').split(','))              \n",
        "                   for _, row in dataset.iterrows()]).reset_index()\n",
        "studio_feat.rename({'index': 'Studio', 0: 'Score'}, axis = 1, inplace = True)"
      ],
      "id": "0-myBCys6Ypv",
      "execution_count": null,
      "outputs": []
    },
    {
      "cell_type": "code",
      "metadata": {
        "id": "vF10VFeSsLUr"
      },
      "source": [
        "# Score > 8 will be considered popular\n",
        "studio_feat['Popular'] = studio_feat['Score'].apply(lambda x: 1 if x > 8 else 0)"
      ],
      "id": "vF10VFeSsLUr",
      "execution_count": null,
      "outputs": []
    },
    {
      "cell_type": "code",
      "metadata": {
        "id": "-ARXzc_QseDF"
      },
      "source": [
        "# Take average of scores of all anime produced by each studio\n",
        "# Take sum of popular, which is the number of popular anime produced\n",
        "studio_feat = studio_feat.groupby(by=['Studio']).agg({'Score':['mean'], 'Popular':['sum']})"
      ],
      "id": "-ARXzc_QseDF",
      "execution_count": null,
      "outputs": []
    },
    {
      "cell_type": "code",
      "metadata": {
        "colab": {
          "base_uri": "https://localhost:8080/",
          "height": 731
        },
        "id": "8tcdSBcJwZlG",
        "outputId": "13033127-adb3-4a7c-8f10-fd7d3cb066d6"
      },
      "source": [
        "# Select out top 20 studios producing the most popular anime\n",
        "top_20_studio_pop = studio_feat.sort_values(by=[('Popular',  'sum')], ascending=False).head(20)\n",
        "top_20_studio_pop"
      ],
      "id": "8tcdSBcJwZlG",
      "execution_count": null,
      "outputs": [
        {
          "output_type": "execute_result",
          "data": {
            "text/html": [
              "<div>\n",
              "<style scoped>\n",
              "    .dataframe tbody tr th:only-of-type {\n",
              "        vertical-align: middle;\n",
              "    }\n",
              "\n",
              "    .dataframe tbody tr th {\n",
              "        vertical-align: top;\n",
              "    }\n",
              "\n",
              "    .dataframe thead tr th {\n",
              "        text-align: left;\n",
              "    }\n",
              "\n",
              "    .dataframe thead tr:last-of-type th {\n",
              "        text-align: right;\n",
              "    }\n",
              "</style>\n",
              "<table border=\"1\" class=\"dataframe\">\n",
              "  <thead>\n",
              "    <tr>\n",
              "      <th></th>\n",
              "      <th>Score</th>\n",
              "      <th>Popular</th>\n",
              "    </tr>\n",
              "    <tr>\n",
              "      <th></th>\n",
              "      <th>mean</th>\n",
              "      <th>sum</th>\n",
              "    </tr>\n",
              "    <tr>\n",
              "      <th>Studio</th>\n",
              "      <th></th>\n",
              "      <th></th>\n",
              "    </tr>\n",
              "  </thead>\n",
              "  <tbody>\n",
              "    <tr>\n",
              "      <th>Madhouse</th>\n",
              "      <td>6.919282</td>\n",
              "      <td>46</td>\n",
              "    </tr>\n",
              "    <tr>\n",
              "      <th>ProductionI.G</th>\n",
              "      <td>6.867340</td>\n",
              "      <td>39</td>\n",
              "    </tr>\n",
              "    <tr>\n",
              "      <th>Sunrise</th>\n",
              "      <td>6.735704</td>\n",
              "      <td>28</td>\n",
              "    </tr>\n",
              "    <tr>\n",
              "      <th>J.C.Staff</th>\n",
              "      <td>6.617368</td>\n",
              "      <td>26</td>\n",
              "    </tr>\n",
              "    <tr>\n",
              "      <th>TMSEntertainment</th>\n",
              "      <td>6.462560</td>\n",
              "      <td>25</td>\n",
              "    </tr>\n",
              "    <tr>\n",
              "      <th>Bones</th>\n",
              "      <td>7.246288</td>\n",
              "      <td>24</td>\n",
              "    </tr>\n",
              "    <tr>\n",
              "      <th>A-1Pictures</th>\n",
              "      <td>7.056815</td>\n",
              "      <td>20</td>\n",
              "    </tr>\n",
              "    <tr>\n",
              "      <th>KyotoAnimation</th>\n",
              "      <td>7.167270</td>\n",
              "      <td>19</td>\n",
              "    </tr>\n",
              "    <tr>\n",
              "      <th>Shaft</th>\n",
              "      <td>7.075900</td>\n",
              "      <td>18</td>\n",
              "    </tr>\n",
              "    <tr>\n",
              "      <th>ToeiAnimation</th>\n",
              "      <td>6.250332</td>\n",
              "      <td>15</td>\n",
              "    </tr>\n",
              "    <tr>\n",
              "      <th>ufotable</th>\n",
              "      <td>7.121583</td>\n",
              "      <td>14</td>\n",
              "    </tr>\n",
              "    <tr>\n",
              "      <th>Brain'sBase</th>\n",
              "      <td>6.949599</td>\n",
              "      <td>12</td>\n",
              "    </tr>\n",
              "    <tr>\n",
              "      <th>StudioPierrot</th>\n",
              "      <td>6.576400</td>\n",
              "      <td>12</td>\n",
              "    </tr>\n",
              "    <tr>\n",
              "      <th>StudioGhibli</th>\n",
              "      <td>6.859811</td>\n",
              "      <td>11</td>\n",
              "    </tr>\n",
              "    <tr>\n",
              "      <th>Artland</th>\n",
              "      <td>6.937769</td>\n",
              "      <td>10</td>\n",
              "    </tr>\n",
              "    <tr>\n",
              "      <th>WhiteFox</th>\n",
              "      <td>7.303095</td>\n",
              "      <td>10</td>\n",
              "    </tr>\n",
              "    <tr>\n",
              "      <th>StudioDeen</th>\n",
              "      <td>6.777831</td>\n",
              "      <td>9</td>\n",
              "    </tr>\n",
              "    <tr>\n",
              "      <th>WitStudio</th>\n",
              "      <td>7.016686</td>\n",
              "      <td>9</td>\n",
              "    </tr>\n",
              "    <tr>\n",
              "      <th>MAPPA</th>\n",
              "      <td>6.815808</td>\n",
              "      <td>9</td>\n",
              "    </tr>\n",
              "    <tr>\n",
              "      <th>Shuka</th>\n",
              "      <td>7.523194</td>\n",
              "      <td>8</td>\n",
              "    </tr>\n",
              "  </tbody>\n",
              "</table>\n",
              "</div>"
            ],
            "text/plain": [
              "                     Score Popular\n",
              "                      mean     sum\n",
              "Studio                            \n",
              "Madhouse          6.919282      46\n",
              "ProductionI.G     6.867340      39\n",
              "Sunrise           6.735704      28\n",
              "J.C.Staff         6.617368      26\n",
              "TMSEntertainment  6.462560      25\n",
              "Bones             7.246288      24\n",
              "A-1Pictures       7.056815      20\n",
              "KyotoAnimation    7.167270      19\n",
              "Shaft             7.075900      18\n",
              "ToeiAnimation     6.250332      15\n",
              "ufotable          7.121583      14\n",
              "Brain'sBase       6.949599      12\n",
              "StudioPierrot     6.576400      12\n",
              "StudioGhibli      6.859811      11\n",
              "Artland           6.937769      10\n",
              "WhiteFox          7.303095      10\n",
              "StudioDeen        6.777831       9\n",
              "WitStudio         7.016686       9\n",
              "MAPPA             6.815808       9\n",
              "Shuka             7.523194       8"
            ]
          },
          "metadata": {
            "tags": []
          },
          "execution_count": 12
        }
      ]
    },
    {
      "cell_type": "code",
      "metadata": {
        "colab": {
          "base_uri": "https://localhost:8080/",
          "height": 731
        },
        "id": "VIwzC6wv0MGr",
        "outputId": "7d9a2a14-7a64-4d0c-e25c-64cdf2f4ee15"
      },
      "source": [
        "# Of the top 20 studio defined above, rank them again with average score\n",
        "top_20_studio_score = top_20_studio_pop.sort_values(by=[('Score', 'mean')], ascending=False)\n",
        "top_20_studio_score"
      ],
      "id": "VIwzC6wv0MGr",
      "execution_count": null,
      "outputs": [
        {
          "output_type": "execute_result",
          "data": {
            "text/html": [
              "<div>\n",
              "<style scoped>\n",
              "    .dataframe tbody tr th:only-of-type {\n",
              "        vertical-align: middle;\n",
              "    }\n",
              "\n",
              "    .dataframe tbody tr th {\n",
              "        vertical-align: top;\n",
              "    }\n",
              "\n",
              "    .dataframe thead tr th {\n",
              "        text-align: left;\n",
              "    }\n",
              "\n",
              "    .dataframe thead tr:last-of-type th {\n",
              "        text-align: right;\n",
              "    }\n",
              "</style>\n",
              "<table border=\"1\" class=\"dataframe\">\n",
              "  <thead>\n",
              "    <tr>\n",
              "      <th></th>\n",
              "      <th>Score</th>\n",
              "      <th>Popular</th>\n",
              "    </tr>\n",
              "    <tr>\n",
              "      <th></th>\n",
              "      <th>mean</th>\n",
              "      <th>sum</th>\n",
              "    </tr>\n",
              "    <tr>\n",
              "      <th>Studio</th>\n",
              "      <th></th>\n",
              "      <th></th>\n",
              "    </tr>\n",
              "  </thead>\n",
              "  <tbody>\n",
              "    <tr>\n",
              "      <th>Shuka</th>\n",
              "      <td>7.523194</td>\n",
              "      <td>8</td>\n",
              "    </tr>\n",
              "    <tr>\n",
              "      <th>WhiteFox</th>\n",
              "      <td>7.303095</td>\n",
              "      <td>10</td>\n",
              "    </tr>\n",
              "    <tr>\n",
              "      <th>Bones</th>\n",
              "      <td>7.246288</td>\n",
              "      <td>24</td>\n",
              "    </tr>\n",
              "    <tr>\n",
              "      <th>KyotoAnimation</th>\n",
              "      <td>7.167270</td>\n",
              "      <td>19</td>\n",
              "    </tr>\n",
              "    <tr>\n",
              "      <th>ufotable</th>\n",
              "      <td>7.121583</td>\n",
              "      <td>14</td>\n",
              "    </tr>\n",
              "    <tr>\n",
              "      <th>Shaft</th>\n",
              "      <td>7.075900</td>\n",
              "      <td>18</td>\n",
              "    </tr>\n",
              "    <tr>\n",
              "      <th>A-1Pictures</th>\n",
              "      <td>7.056815</td>\n",
              "      <td>20</td>\n",
              "    </tr>\n",
              "    <tr>\n",
              "      <th>WitStudio</th>\n",
              "      <td>7.016686</td>\n",
              "      <td>9</td>\n",
              "    </tr>\n",
              "    <tr>\n",
              "      <th>Brain'sBase</th>\n",
              "      <td>6.949599</td>\n",
              "      <td>12</td>\n",
              "    </tr>\n",
              "    <tr>\n",
              "      <th>Artland</th>\n",
              "      <td>6.937769</td>\n",
              "      <td>10</td>\n",
              "    </tr>\n",
              "    <tr>\n",
              "      <th>Madhouse</th>\n",
              "      <td>6.919282</td>\n",
              "      <td>46</td>\n",
              "    </tr>\n",
              "    <tr>\n",
              "      <th>ProductionI.G</th>\n",
              "      <td>6.867340</td>\n",
              "      <td>39</td>\n",
              "    </tr>\n",
              "    <tr>\n",
              "      <th>StudioGhibli</th>\n",
              "      <td>6.859811</td>\n",
              "      <td>11</td>\n",
              "    </tr>\n",
              "    <tr>\n",
              "      <th>MAPPA</th>\n",
              "      <td>6.815808</td>\n",
              "      <td>9</td>\n",
              "    </tr>\n",
              "    <tr>\n",
              "      <th>StudioDeen</th>\n",
              "      <td>6.777831</td>\n",
              "      <td>9</td>\n",
              "    </tr>\n",
              "    <tr>\n",
              "      <th>Sunrise</th>\n",
              "      <td>6.735704</td>\n",
              "      <td>28</td>\n",
              "    </tr>\n",
              "    <tr>\n",
              "      <th>J.C.Staff</th>\n",
              "      <td>6.617368</td>\n",
              "      <td>26</td>\n",
              "    </tr>\n",
              "    <tr>\n",
              "      <th>StudioPierrot</th>\n",
              "      <td>6.576400</td>\n",
              "      <td>12</td>\n",
              "    </tr>\n",
              "    <tr>\n",
              "      <th>TMSEntertainment</th>\n",
              "      <td>6.462560</td>\n",
              "      <td>25</td>\n",
              "    </tr>\n",
              "    <tr>\n",
              "      <th>ToeiAnimation</th>\n",
              "      <td>6.250332</td>\n",
              "      <td>15</td>\n",
              "    </tr>\n",
              "  </tbody>\n",
              "</table>\n",
              "</div>"
            ],
            "text/plain": [
              "                     Score Popular\n",
              "                      mean     sum\n",
              "Studio                            \n",
              "Shuka             7.523194       8\n",
              "WhiteFox          7.303095      10\n",
              "Bones             7.246288      24\n",
              "KyotoAnimation    7.167270      19\n",
              "ufotable          7.121583      14\n",
              "Shaft             7.075900      18\n",
              "A-1Pictures       7.056815      20\n",
              "WitStudio         7.016686       9\n",
              "Brain'sBase       6.949599      12\n",
              "Artland           6.937769      10\n",
              "Madhouse          6.919282      46\n",
              "ProductionI.G     6.867340      39\n",
              "StudioGhibli      6.859811      11\n",
              "MAPPA             6.815808       9\n",
              "StudioDeen        6.777831       9\n",
              "Sunrise           6.735704      28\n",
              "J.C.Staff         6.617368      26\n",
              "StudioPierrot     6.576400      12\n",
              "TMSEntertainment  6.462560      25\n",
              "ToeiAnimation     6.250332      15"
            ]
          },
          "metadata": {
            "tags": []
          },
          "execution_count": 13
        }
      ]
    },
    {
      "cell_type": "code",
      "metadata": {
        "colab": {
          "base_uri": "https://localhost:8080/",
          "height": 669
        },
        "id": "f-YgJPqE1uG8",
        "outputId": "09ed1d60-52c3-48ad-fb60-9949588e5e34"
      },
      "source": [
        "# Create ranking of these 20 studios both by number of popular anime produced and the average scoring of all anime\n",
        "pop_rank = list(zip(top_20_studio_pop.index, np.arange(1, 21)))\n",
        "score_rank = list(zip(top_20_studio_score.index, np.arange(1, 21)))\n",
        "\n",
        "studio_pop_rank = pd.DataFrame([rank for _, rank in pop_rank], index=[stud for stud, _ in pop_rank], columns=['Popular rank'])\n",
        "studio_score_rank = pd.DataFrame([rank for _, rank in score_rank], index=[stud for stud, _ in score_rank], columns=['Score rank'])\n",
        "studio_rank = studio_pop_rank.merge(studio_score_rank, left_index=True, right_index=True)\n",
        "\n",
        "# Compute overall ranking by adding the 2 rankings\n",
        "studio_rank['Overall'] = studio_rank['Popular rank'] + studio_rank['Score rank']\n",
        "studio_rank.sort_values(['Overall'])"
      ],
      "id": "f-YgJPqE1uG8",
      "execution_count": null,
      "outputs": [
        {
          "output_type": "execute_result",
          "data": {
            "text/html": [
              "<div>\n",
              "<style scoped>\n",
              "    .dataframe tbody tr th:only-of-type {\n",
              "        vertical-align: middle;\n",
              "    }\n",
              "\n",
              "    .dataframe tbody tr th {\n",
              "        vertical-align: top;\n",
              "    }\n",
              "\n",
              "    .dataframe thead th {\n",
              "        text-align: right;\n",
              "    }\n",
              "</style>\n",
              "<table border=\"1\" class=\"dataframe\">\n",
              "  <thead>\n",
              "    <tr style=\"text-align: right;\">\n",
              "      <th></th>\n",
              "      <th>Popular rank</th>\n",
              "      <th>Score rank</th>\n",
              "      <th>Overall</th>\n",
              "    </tr>\n",
              "  </thead>\n",
              "  <tbody>\n",
              "    <tr>\n",
              "      <th>Bones</th>\n",
              "      <td>6</td>\n",
              "      <td>3</td>\n",
              "      <td>9</td>\n",
              "    </tr>\n",
              "    <tr>\n",
              "      <th>Madhouse</th>\n",
              "      <td>1</td>\n",
              "      <td>11</td>\n",
              "      <td>12</td>\n",
              "    </tr>\n",
              "    <tr>\n",
              "      <th>KyotoAnimation</th>\n",
              "      <td>8</td>\n",
              "      <td>4</td>\n",
              "      <td>12</td>\n",
              "    </tr>\n",
              "    <tr>\n",
              "      <th>ProductionI.G</th>\n",
              "      <td>2</td>\n",
              "      <td>12</td>\n",
              "      <td>14</td>\n",
              "    </tr>\n",
              "    <tr>\n",
              "      <th>A-1Pictures</th>\n",
              "      <td>7</td>\n",
              "      <td>7</td>\n",
              "      <td>14</td>\n",
              "    </tr>\n",
              "    <tr>\n",
              "      <th>Shaft</th>\n",
              "      <td>9</td>\n",
              "      <td>6</td>\n",
              "      <td>15</td>\n",
              "    </tr>\n",
              "    <tr>\n",
              "      <th>ufotable</th>\n",
              "      <td>11</td>\n",
              "      <td>5</td>\n",
              "      <td>16</td>\n",
              "    </tr>\n",
              "    <tr>\n",
              "      <th>WhiteFox</th>\n",
              "      <td>16</td>\n",
              "      <td>2</td>\n",
              "      <td>18</td>\n",
              "    </tr>\n",
              "    <tr>\n",
              "      <th>Sunrise</th>\n",
              "      <td>3</td>\n",
              "      <td>16</td>\n",
              "      <td>19</td>\n",
              "    </tr>\n",
              "    <tr>\n",
              "      <th>Brain'sBase</th>\n",
              "      <td>12</td>\n",
              "      <td>9</td>\n",
              "      <td>21</td>\n",
              "    </tr>\n",
              "    <tr>\n",
              "      <th>Shuka</th>\n",
              "      <td>20</td>\n",
              "      <td>1</td>\n",
              "      <td>21</td>\n",
              "    </tr>\n",
              "    <tr>\n",
              "      <th>J.C.Staff</th>\n",
              "      <td>4</td>\n",
              "      <td>17</td>\n",
              "      <td>21</td>\n",
              "    </tr>\n",
              "    <tr>\n",
              "      <th>TMSEntertainment</th>\n",
              "      <td>5</td>\n",
              "      <td>19</td>\n",
              "      <td>24</td>\n",
              "    </tr>\n",
              "    <tr>\n",
              "      <th>Artland</th>\n",
              "      <td>15</td>\n",
              "      <td>10</td>\n",
              "      <td>25</td>\n",
              "    </tr>\n",
              "    <tr>\n",
              "      <th>WitStudio</th>\n",
              "      <td>18</td>\n",
              "      <td>8</td>\n",
              "      <td>26</td>\n",
              "    </tr>\n",
              "    <tr>\n",
              "      <th>StudioGhibli</th>\n",
              "      <td>14</td>\n",
              "      <td>13</td>\n",
              "      <td>27</td>\n",
              "    </tr>\n",
              "    <tr>\n",
              "      <th>ToeiAnimation</th>\n",
              "      <td>10</td>\n",
              "      <td>20</td>\n",
              "      <td>30</td>\n",
              "    </tr>\n",
              "    <tr>\n",
              "      <th>StudioPierrot</th>\n",
              "      <td>13</td>\n",
              "      <td>18</td>\n",
              "      <td>31</td>\n",
              "    </tr>\n",
              "    <tr>\n",
              "      <th>StudioDeen</th>\n",
              "      <td>17</td>\n",
              "      <td>15</td>\n",
              "      <td>32</td>\n",
              "    </tr>\n",
              "    <tr>\n",
              "      <th>MAPPA</th>\n",
              "      <td>19</td>\n",
              "      <td>14</td>\n",
              "      <td>33</td>\n",
              "    </tr>\n",
              "  </tbody>\n",
              "</table>\n",
              "</div>"
            ],
            "text/plain": [
              "                  Popular rank  Score rank  Overall\n",
              "Bones                        6           3        9\n",
              "Madhouse                     1          11       12\n",
              "KyotoAnimation               8           4       12\n",
              "ProductionI.G                2          12       14\n",
              "A-1Pictures                  7           7       14\n",
              "Shaft                        9           6       15\n",
              "ufotable                    11           5       16\n",
              "WhiteFox                    16           2       18\n",
              "Sunrise                      3          16       19\n",
              "Brain'sBase                 12           9       21\n",
              "Shuka                       20           1       21\n",
              "J.C.Staff                    4          17       21\n",
              "TMSEntertainment             5          19       24\n",
              "Artland                     15          10       25\n",
              "WitStudio                   18           8       26\n",
              "StudioGhibli                14          13       27\n",
              "ToeiAnimation               10          20       30\n",
              "StudioPierrot               13          18       31\n",
              "StudioDeen                  17          15       32\n",
              "MAPPA                       19          14       33"
            ]
          },
          "metadata": {
            "tags": []
          },
          "execution_count": 15
        }
      ]
    },
    {
      "cell_type": "markdown",
      "metadata": {
        "id": "mental-operator"
      },
      "source": [
        "## Machine Learning Problem"
      ],
      "id": "mental-operator"
    },
    {
      "cell_type": "markdown",
      "metadata": {
        "id": "dangerous-personality"
      },
      "source": [
        "The main effort will be focussed on predicting reliable anime ratings that can aid the company in selecting profitable anime. Most regression tasks are evaluated using the Root Mean Square Error (RMSE) metric. Another candidate is Mean Absolute Error (MAE), but it is less preferred as RMSE penalizes small errors better than MAE and moreover, RMSE is easily differentiable for parameter updates, especially in the context of backpropagation in Deep Neural Networks. Conventional supervised Machine Learning improves with adding more data/experience i.e more user ratings, which will help our modelling algorithm to perform well. Hence, we expect our model will also exhibit the same behaviour of improving its performance, i.e. lower RMSE, with more data. However, the data or the experience is expected to go through extensive pre-processing and cleaning as regression algorithms are highly sensitive to the quality of their input. For example, we may use one hot encoding for categorical features such as source to avoid introducing spurious relationships. In addition to regression, we also plan to recommend appropriate anime to users by leveraging classical algorithms on collaborative and/or content based filtering, if time allows. Our dual objective is justified as the practice of rating prediction and anime recommendation is critical for the success and profit of a company in the entertainment web streaming space. \n",
        "\n"
      ],
      "id": "dangerous-personality"
    },
    {
      "cell_type": "code",
      "metadata": {
        "id": "damaged-council"
      },
      "source": [
        "def formatDate(dateString):\n",
        "    \"\"\"\n",
        "    Takes in the start and end date in the string format and returns a list having both dates in mm-dd-yy format\n",
        "    \n",
        "    \"\"\"\n",
        "    month2digit = {'Jan':1, 'Feb':2, 'Mar':3, 'Apr':4, 'May':5, 'Jun':6, 'Jul':7, 'Aug':8, 'Sep':9, 'Oct':10,\n",
        "                  'Nov':11, 'Dec':12}\n",
        "    \n",
        "    startFormat, endFormat = '12-12-25', '12-12-25'\n",
        "    \n",
        "    if len(dateString) > 1:\n",
        "        duration = dateString.split('to')\n",
        "        if len(duration) > 1:\n",
        "            startDate, endDate = duration\n",
        "            \n",
        "            if len(startDate.split()) > 2:\n",
        "                month, day, year = startDate.split()\n",
        "                startFormat = str(month2digit[month]) + str('-') + str(day[0]) + str('-') + str(year)\n",
        "            if len(startDate.split()) == 2:\n",
        "                month, year = startDate.split()\n",
        "                startFormat = str(month2digit[month[0:-1]]) + str('-') + '1' + str('-') + str(year)\n",
        "            if len(endDate.split()) > 2:\n",
        "                month, day, year = endDate.split()\n",
        "                endFormat = str(month2digit[month]) + str('-') + str(day[0]) + str('-') + str(year)\n",
        "            if len(endDate.split()) == 2:\n",
        "                month, year = endDate.split()\n",
        "                endFormat = str(month2digit[month[0:-1]]) + str('-') + '1' + str('-') + str(year)\n",
        "\n",
        "    return startFormat, endFormat\n",
        "\n",
        "def findDays(date):\n",
        "    \"\"\"\n",
        "    Takes in a list containing the start and the end date. Returns the number of days in between them. \n",
        "    \n",
        "    \"\"\"\n",
        "    \n",
        "    days = 0\n",
        "    start, end = date\n",
        "    invalid_date = '12-12-25'\n",
        "    if start != invalid_date and end != invalid_date:\n",
        "        start = pd.to_datetime(start)\n",
        "        end   = pd.to_datetime(end)\n",
        "        if end > start:\n",
        "            days  = (end - start).days\n",
        "    return days"
      ],
      "id": "damaged-council",
      "execution_count": null,
      "outputs": []
    },
    {
      "cell_type": "code",
      "metadata": {
        "id": "broadband-paint"
      },
      "source": [
        "def imputeModeValues(feature):\n",
        "    \"\"\"\n",
        "    Takes in the data column and replaces 'Unknown' values with mode of the column values.\n",
        "    \n",
        "    \"\"\"\n",
        "    \n",
        "    feature.replace({'Unknown':0}, inplace = True)\n",
        "    feature = feature.astype('float64')\n",
        "    mode = feature.mode()[0]\n",
        "    feature.replace({0:int(mode)}, inplace = True)\n",
        "    return feature"
      ],
      "id": "broadband-paint",
      "execution_count": null,
      "outputs": []
    },
    {
      "cell_type": "code",
      "metadata": {
        "id": "double-cornell"
      },
      "source": [
        "def encodeCategoricalFeature(feature, data):\n",
        "    \"\"\"\n",
        "    Input is the categorical feature and the dataframe. Computes and returns the encoded feature\n",
        "    using CounterVectorizer().\n",
        "    \n",
        "    \"\"\"\n",
        "    vectorizer = CountVectorizer()\n",
        "    transformedFeature = vectorizer.fit_transform(feature)\n",
        "    encodedFeature = pd.DataFrame(transformedFeature.toarray(), columns = vectorizer.get_feature_names())\n",
        "    return encodedFeature\n",
        "    "
      ],
      "id": "double-cornell",
      "execution_count": null,
      "outputs": []
    },
    {
      "cell_type": "code",
      "metadata": {
        "id": "fabulous-batch"
      },
      "source": [
        "def addEncodedCategoricalFeature(data, encodedFeature, featureName):\n",
        "    \"\"\"\n",
        "    Input is dataframe, encoded feature returned by encodeCategoricalFeature function and the feature name.\n",
        "    Concatenates the encoded feature with the dataframe and returns the modified dataframe.\n",
        "    \n",
        "    \"\"\"\n",
        "    data = pd.concat([data, encodedFeature], axis = 1)\n",
        "    data.drop([featureName], axis = 1, inplace = True)\n",
        "    return data\n",
        "    "
      ],
      "id": "fabulous-batch",
      "execution_count": null,
      "outputs": []
    },
    {
      "cell_type": "code",
      "metadata": {
        "id": "human-karaoke"
      },
      "source": [
        "def plotDataCorrelation(data, label):\n",
        "    \"\"\"\n",
        "    Plots the correlation matrix between the data and the label. \n",
        "    \"\"\"\n",
        "    \n",
        "    data = pd.concat([data, label], axis = 1)\n",
        "    sns.set(font_scale=0.8)\n",
        "    sns.set_palette(\"coolwarm\")\n",
        "    sns.heatmap(data.corr(), annot = True, fmt='.1g', cmap=\"coolwarm\")\n",
        "    "
      ],
      "id": "human-karaoke",
      "execution_count": null,
      "outputs": []
    },
    {
      "cell_type": "code",
      "metadata": {
        "id": "recreational-edgar"
      },
      "source": [
        "def splitData(data, labels, split_ratio):\n",
        "    \"\"\"\n",
        "    Splits the input data, labels into corresponding training and test sets, as defined by the split_ratio\n",
        "    \n",
        "    \"\"\"\n",
        "    \n",
        "    X, y = data, labels\n",
        "    trainingData, testData, trainingLabels, testLabels = train_test_split(X, y, test_size=split_ratio, random_state = 42)\n",
        "    return trainingData, testData, trainingLabels, testLabels"
      ],
      "id": "recreational-edgar",
      "execution_count": null,
      "outputs": []
    },
    {
      "cell_type": "code",
      "metadata": {
        "id": "contrary-camping"
      },
      "source": [
        "def normalizingData(data):\n",
        "    \"\"\"\n",
        "    Normalizes the input data using MinMaxScaler(). \n",
        "    \n",
        "    \"\"\"\n",
        "    \n",
        "    scaler = preprocessing.MinMaxScaler()\n",
        "    normalizedData = scaler.fit_transform(data)\n",
        "    return normalizedData\n",
        "    "
      ],
      "id": "contrary-camping",
      "execution_count": null,
      "outputs": []
    },
    {
      "cell_type": "code",
      "metadata": {
        "id": "fabulous-bronze"
      },
      "source": [
        "def findRMSE(predictions, labels):\n",
        "    \"\"\"\n",
        "    Computes and returns the Root Mean Square Error (RMSE) between the predictions and true labels. \n",
        "    \n",
        "    \"\"\"\n",
        "    mse = mean_squared_error(y_test, predictions_test_set)\n",
        "    rmse = np.sqrt(mse)\n",
        "    return rmse\n",
        "    "
      ],
      "id": "fabulous-bronze",
      "execution_count": null,
      "outputs": []
    },
    {
      "cell_type": "markdown",
      "metadata": {
        "id": "funded-spain"
      },
      "source": [
        "The following are the stages in the data cleaning pipeline. \n",
        "1. Identify and remove redundant, zero-variance features.\n",
        "2. Impute unknown/void values across the feature set by the corresponding mean/mode of the feature.\n",
        "3. Convert the date format from string to mm/dd/yy format in the 'Aired' feature. \n",
        "4. Identify and segment numerical and categorical features. \n",
        "5. Encoding the following non-comma seperated Categorical Variables using the CountVectorizer function.<br>\n",
        "&emsp;a. Genres<br>\n",
        "&emsp;b. Type<br>\n",
        "&emsp;c. Source<br>\n",
        "&emsp;d. Rating<br>\n",
        "6. Dropping the following comma-seperated categorical features as their encoding greatly increases the total number    of features. Adding encoded combinations of these features to the dataset is experimented later. <br>\n",
        "&emsp;a. Producers<br>\n",
        "&emsp;b. Studios<br> \n",
        "&emsp;c. Name<br>\n",
        " "
      ],
      "id": "funded-spain"
    },
    {
      "cell_type": "code",
      "metadata": {
        "id": "developing-cancellation"
      },
      "source": [
        "def imputeFeatures(data):\n",
        "    \"\"\"\n",
        "    This function takes in the dataset and returns the modified dataset containing imputed values.\n",
        "    \"\"\"\n",
        "    \n",
        "    data.Episodes = imputeModeValues(data.Episodes)\n",
        "    numericDuration = data.Duration.apply(lambda x:x.split()[0])\n",
        "    data.Duration = imputeMeanValues(numericDuration)\n",
        "    \n",
        "    return data"
      ],
      "id": "developing-cancellation",
      "execution_count": null,
      "outputs": []
    },
    {
      "cell_type": "code",
      "metadata": {
        "id": "constant-carpet"
      },
      "source": [
        "def cleanDate(data):\n",
        "    \"\"\"\n",
        "    This function takes in the dataset and returns the modified dataset containing the edited date values.\n",
        "    \"\"\"\n",
        "    \n",
        "    data.Aired.replace({'Unknown':'0'}, inplace = True)\n",
        "    formatedDate = data.Aired.apply(lambda x:formatDate(x))\n",
        "    data.Aired = formatedDate.apply(lambda x: findDays(x))\n",
        "    data.Aired.replace({0:int(data.Aired.mean())}, inplace = True)\n",
        "    \n",
        "    return data "
      ],
      "id": "constant-carpet",
      "execution_count": null,
      "outputs": []
    },
    {
      "cell_type": "code",
      "metadata": {
        "id": "collected-guide"
      },
      "source": [
        "def cleanCategoricalFeatures(data, featureList):\n",
        "    \"\"\"\n",
        "    This function takes in the datset and encodes all features listed in the featureList. \n",
        "    \"\"\"\n",
        "    for name in featureList:\n",
        "        encoding = encodeCategoricalFeature(data[name], data)\n",
        "        data = addEncodedCategoricalFeature(data, encoding, name)\n",
        "    return data\n",
        "\n"
      ],
      "id": "collected-guide",
      "execution_count": null,
      "outputs": []
    },
    {
      "cell_type": "code",
      "metadata": {
        "id": "informal-disposition"
      },
      "source": [
        "def dropFeatures(data, dropList):\n",
        "    \"\"\"\n",
        "    This function takes in the datset and drops all features listed in the drop list. \n",
        "    \"\"\"\n",
        "    for name in dropList:\n",
        "        data.drop([name], axis = 1, inplace = True)\n",
        "    return data\n",
        "\n"
      ],
      "id": "informal-disposition",
      "execution_count": null,
      "outputs": []
    },
    {
      "cell_type": "code",
      "metadata": {
        "id": "located-cause"
      },
      "source": [
        "def featurePreprocessing(data):\n",
        "    \"\"\"\n",
        "    Performs data cleaning on the given data and returns the resulting features,labels, list of numerical features,\n",
        "    list of categorical features.\n",
        "    \n",
        "    \"\"\"\n",
        "    \n",
        "    redundant = ['MAL_ID','English name', 'Japanese name', 'Premiered', 'Licensors', 'Score-10', 'Score-9', 'Score-8',\n",
        "                'Score-7', 'Score-6', 'Score-5', 'Score-4', 'Score-3', 'Score-2', 'Score-1']\n",
        "    features = data.copy()\n",
        "    features = dropFeatures(features, redundant)\n",
        "    \n",
        "    \n",
        "    imputedFeatures = imputeFeatures(features)\n",
        "   \n",
        "    features = cleanDate(imputedFeatures)\n",
        "   \n",
        "    \n",
        "    numerical_features   = ['Episodes', 'Aired', 'Duration','Popularity','Members','Favorites', \n",
        "                            'Watching', 'Completed', 'On-Hold', 'Dropped', 'Plan to Watch']\n",
        "    categorical_features = ['Name','Genres', 'Types', 'Producers', 'Studios', 'Source', 'Rating']\n",
        "    \n",
        "    encodeList = ['Genres', 'Type', 'Source', 'Rating']\n",
        "    \n",
        "    encodedFeatures = cleanCategoricalFeatures(features, encodeList)\n",
        "    \n",
        "    dropList = ['Producers', 'Studios', 'Name']\n",
        "    features = dropFeatures(encodedFeatures, dropList)\n",
        "    \n",
        "    labels = features.Score\n",
        "    labels = imputeMeanValues(labels)\n",
        "\n",
        "    newDropList = ['Score', 'Ranked']\n",
        "    features = dropFeatures(features, newDropList)\n",
        "   \n",
        "\n",
        "\n",
        "    return features, labels, numerical_features, categorical_features\n",
        "    "
      ],
      "id": "located-cause",
      "execution_count": null,
      "outputs": []
    },
    {
      "cell_type": "code",
      "metadata": {
        "colab": {
          "base_uri": "https://localhost:8080/"
        },
        "id": "progressive-kansas",
        "outputId": "1340c4d3-e9cc-49b0-e481-92c62277bc8d"
      },
      "source": [
        "X, y, numerical_features, categorical_features = featurePreprocessing(anime_features)"
      ],
      "id": "progressive-kansas",
      "execution_count": null,
      "outputs": [
        {
          "output_type": "stream",
          "text": [
            "/usr/local/lib/python3.7/dist-packages/pandas/core/series.py:4582: SettingWithCopyWarning: \n",
            "A value is trying to be set on a copy of a slice from a DataFrame\n",
            "\n",
            "See the caveats in the documentation: https://pandas.pydata.org/pandas-docs/stable/user_guide/indexing.html#returning-a-view-versus-a-copy\n",
            "  method=method,\n"
          ],
          "name": "stderr"
        }
      ]
    },
    {
      "cell_type": "code",
      "metadata": {
        "colab": {
          "base_uri": "https://localhost:8080/",
          "height": 287
        },
        "id": "automotive-classic",
        "outputId": "c3d033f0-d901-486a-9ae4-62b18026ed1a"
      },
      "source": [
        "X.head(5)"
      ],
      "id": "automotive-classic",
      "execution_count": null,
      "outputs": [
        {
          "output_type": "execute_result",
          "data": {
            "text/html": [
              "<div>\n",
              "<style scoped>\n",
              "    .dataframe tbody tr th:only-of-type {\n",
              "        vertical-align: middle;\n",
              "    }\n",
              "\n",
              "    .dataframe tbody tr th {\n",
              "        vertical-align: top;\n",
              "    }\n",
              "\n",
              "    .dataframe thead th {\n",
              "        text-align: right;\n",
              "    }\n",
              "</style>\n",
              "<table border=\"1\" class=\"dataframe\">\n",
              "  <thead>\n",
              "    <tr style=\"text-align: right;\">\n",
              "      <th></th>\n",
              "      <th>Episodes</th>\n",
              "      <th>Aired</th>\n",
              "      <th>Duration</th>\n",
              "      <th>Popularity</th>\n",
              "      <th>Members</th>\n",
              "      <th>Favorites</th>\n",
              "      <th>Watching</th>\n",
              "      <th>Completed</th>\n",
              "      <th>On-Hold</th>\n",
              "      <th>Dropped</th>\n",
              "      <th>Plan to Watch</th>\n",
              "      <th>action</th>\n",
              "      <th>adventure</th>\n",
              "      <th>ai</th>\n",
              "      <th>arts</th>\n",
              "      <th>cars</th>\n",
              "      <th>comedy</th>\n",
              "      <th>dementia</th>\n",
              "      <th>demons</th>\n",
              "      <th>drama</th>\n",
              "      <th>ecchi</th>\n",
              "      <th>fantasy</th>\n",
              "      <th>fi</th>\n",
              "      <th>game</th>\n",
              "      <th>harem</th>\n",
              "      <th>hentai</th>\n",
              "      <th>historical</th>\n",
              "      <th>horror</th>\n",
              "      <th>josei</th>\n",
              "      <th>kids</th>\n",
              "      <th>life</th>\n",
              "      <th>magic</th>\n",
              "      <th>martial</th>\n",
              "      <th>mecha</th>\n",
              "      <th>military</th>\n",
              "      <th>music</th>\n",
              "      <th>mystery</th>\n",
              "      <th>of</th>\n",
              "      <th>parody</th>\n",
              "      <th>police</th>\n",
              "      <th>...</th>\n",
              "      <th>yuri</th>\n",
              "      <th>movie</th>\n",
              "      <th>music</th>\n",
              "      <th>ona</th>\n",
              "      <th>ova</th>\n",
              "      <th>special</th>\n",
              "      <th>tv</th>\n",
              "      <th>unknown</th>\n",
              "      <th>book</th>\n",
              "      <th>card</th>\n",
              "      <th>digital</th>\n",
              "      <th>game</th>\n",
              "      <th>koma</th>\n",
              "      <th>light</th>\n",
              "      <th>manga</th>\n",
              "      <th>music</th>\n",
              "      <th>novel</th>\n",
              "      <th>original</th>\n",
              "      <th>other</th>\n",
              "      <th>picture</th>\n",
              "      <th>radio</th>\n",
              "      <th>unknown</th>\n",
              "      <th>visual</th>\n",
              "      <th>web</th>\n",
              "      <th>13</th>\n",
              "      <th>17</th>\n",
              "      <th>ages</th>\n",
              "      <th>all</th>\n",
              "      <th>children</th>\n",
              "      <th>hentai</th>\n",
              "      <th>mild</th>\n",
              "      <th>nudity</th>\n",
              "      <th>older</th>\n",
              "      <th>or</th>\n",
              "      <th>pg</th>\n",
              "      <th>profanity</th>\n",
              "      <th>rx</th>\n",
              "      <th>teens</th>\n",
              "      <th>unknown</th>\n",
              "      <th>violence</th>\n",
              "    </tr>\n",
              "  </thead>\n",
              "  <tbody>\n",
              "    <tr>\n",
              "      <th>0</th>\n",
              "      <td>26.0</td>\n",
              "      <td>364</td>\n",
              "      <td>24.0</td>\n",
              "      <td>39</td>\n",
              "      <td>1251960</td>\n",
              "      <td>61971</td>\n",
              "      <td>105808</td>\n",
              "      <td>718161</td>\n",
              "      <td>71513</td>\n",
              "      <td>26678</td>\n",
              "      <td>329800</td>\n",
              "      <td>1</td>\n",
              "      <td>1</td>\n",
              "      <td>0</td>\n",
              "      <td>0</td>\n",
              "      <td>0</td>\n",
              "      <td>1</td>\n",
              "      <td>0</td>\n",
              "      <td>0</td>\n",
              "      <td>1</td>\n",
              "      <td>0</td>\n",
              "      <td>0</td>\n",
              "      <td>1</td>\n",
              "      <td>0</td>\n",
              "      <td>0</td>\n",
              "      <td>0</td>\n",
              "      <td>0</td>\n",
              "      <td>0</td>\n",
              "      <td>0</td>\n",
              "      <td>0</td>\n",
              "      <td>0</td>\n",
              "      <td>0</td>\n",
              "      <td>0</td>\n",
              "      <td>0</td>\n",
              "      <td>0</td>\n",
              "      <td>0</td>\n",
              "      <td>0</td>\n",
              "      <td>0</td>\n",
              "      <td>0</td>\n",
              "      <td>0</td>\n",
              "      <td>...</td>\n",
              "      <td>0</td>\n",
              "      <td>0</td>\n",
              "      <td>0</td>\n",
              "      <td>0</td>\n",
              "      <td>0</td>\n",
              "      <td>0</td>\n",
              "      <td>1</td>\n",
              "      <td>0</td>\n",
              "      <td>0</td>\n",
              "      <td>0</td>\n",
              "      <td>0</td>\n",
              "      <td>0</td>\n",
              "      <td>0</td>\n",
              "      <td>0</td>\n",
              "      <td>0</td>\n",
              "      <td>0</td>\n",
              "      <td>0</td>\n",
              "      <td>1</td>\n",
              "      <td>0</td>\n",
              "      <td>0</td>\n",
              "      <td>0</td>\n",
              "      <td>0</td>\n",
              "      <td>0</td>\n",
              "      <td>0</td>\n",
              "      <td>0</td>\n",
              "      <td>1</td>\n",
              "      <td>0</td>\n",
              "      <td>0</td>\n",
              "      <td>0</td>\n",
              "      <td>0</td>\n",
              "      <td>0</td>\n",
              "      <td>0</td>\n",
              "      <td>0</td>\n",
              "      <td>0</td>\n",
              "      <td>0</td>\n",
              "      <td>1</td>\n",
              "      <td>0</td>\n",
              "      <td>0</td>\n",
              "      <td>0</td>\n",
              "      <td>1</td>\n",
              "    </tr>\n",
              "    <tr>\n",
              "      <th>1</th>\n",
              "      <td>1.0</td>\n",
              "      <td>99</td>\n",
              "      <td>1.0</td>\n",
              "      <td>518</td>\n",
              "      <td>273145</td>\n",
              "      <td>1174</td>\n",
              "      <td>4143</td>\n",
              "      <td>208333</td>\n",
              "      <td>1935</td>\n",
              "      <td>770</td>\n",
              "      <td>57964</td>\n",
              "      <td>1</td>\n",
              "      <td>0</td>\n",
              "      <td>0</td>\n",
              "      <td>0</td>\n",
              "      <td>0</td>\n",
              "      <td>0</td>\n",
              "      <td>0</td>\n",
              "      <td>0</td>\n",
              "      <td>1</td>\n",
              "      <td>0</td>\n",
              "      <td>0</td>\n",
              "      <td>1</td>\n",
              "      <td>0</td>\n",
              "      <td>0</td>\n",
              "      <td>0</td>\n",
              "      <td>0</td>\n",
              "      <td>0</td>\n",
              "      <td>0</td>\n",
              "      <td>0</td>\n",
              "      <td>0</td>\n",
              "      <td>0</td>\n",
              "      <td>0</td>\n",
              "      <td>0</td>\n",
              "      <td>0</td>\n",
              "      <td>0</td>\n",
              "      <td>1</td>\n",
              "      <td>0</td>\n",
              "      <td>0</td>\n",
              "      <td>0</td>\n",
              "      <td>...</td>\n",
              "      <td>0</td>\n",
              "      <td>1</td>\n",
              "      <td>0</td>\n",
              "      <td>0</td>\n",
              "      <td>0</td>\n",
              "      <td>0</td>\n",
              "      <td>0</td>\n",
              "      <td>0</td>\n",
              "      <td>0</td>\n",
              "      <td>0</td>\n",
              "      <td>0</td>\n",
              "      <td>0</td>\n",
              "      <td>0</td>\n",
              "      <td>0</td>\n",
              "      <td>0</td>\n",
              "      <td>0</td>\n",
              "      <td>0</td>\n",
              "      <td>1</td>\n",
              "      <td>0</td>\n",
              "      <td>0</td>\n",
              "      <td>0</td>\n",
              "      <td>0</td>\n",
              "      <td>0</td>\n",
              "      <td>0</td>\n",
              "      <td>0</td>\n",
              "      <td>1</td>\n",
              "      <td>0</td>\n",
              "      <td>0</td>\n",
              "      <td>0</td>\n",
              "      <td>0</td>\n",
              "      <td>0</td>\n",
              "      <td>0</td>\n",
              "      <td>0</td>\n",
              "      <td>0</td>\n",
              "      <td>0</td>\n",
              "      <td>1</td>\n",
              "      <td>0</td>\n",
              "      <td>0</td>\n",
              "      <td>0</td>\n",
              "      <td>1</td>\n",
              "    </tr>\n",
              "    <tr>\n",
              "      <th>2</th>\n",
              "      <td>26.0</td>\n",
              "      <td>155</td>\n",
              "      <td>24.0</td>\n",
              "      <td>201</td>\n",
              "      <td>558913</td>\n",
              "      <td>12944</td>\n",
              "      <td>29113</td>\n",
              "      <td>343492</td>\n",
              "      <td>25465</td>\n",
              "      <td>13925</td>\n",
              "      <td>146918</td>\n",
              "      <td>1</td>\n",
              "      <td>1</td>\n",
              "      <td>0</td>\n",
              "      <td>0</td>\n",
              "      <td>0</td>\n",
              "      <td>1</td>\n",
              "      <td>0</td>\n",
              "      <td>0</td>\n",
              "      <td>1</td>\n",
              "      <td>0</td>\n",
              "      <td>0</td>\n",
              "      <td>1</td>\n",
              "      <td>0</td>\n",
              "      <td>0</td>\n",
              "      <td>0</td>\n",
              "      <td>0</td>\n",
              "      <td>0</td>\n",
              "      <td>0</td>\n",
              "      <td>0</td>\n",
              "      <td>0</td>\n",
              "      <td>0</td>\n",
              "      <td>0</td>\n",
              "      <td>0</td>\n",
              "      <td>0</td>\n",
              "      <td>0</td>\n",
              "      <td>0</td>\n",
              "      <td>0</td>\n",
              "      <td>0</td>\n",
              "      <td>0</td>\n",
              "      <td>...</td>\n",
              "      <td>0</td>\n",
              "      <td>0</td>\n",
              "      <td>0</td>\n",
              "      <td>0</td>\n",
              "      <td>0</td>\n",
              "      <td>0</td>\n",
              "      <td>1</td>\n",
              "      <td>0</td>\n",
              "      <td>0</td>\n",
              "      <td>0</td>\n",
              "      <td>0</td>\n",
              "      <td>0</td>\n",
              "      <td>0</td>\n",
              "      <td>0</td>\n",
              "      <td>1</td>\n",
              "      <td>0</td>\n",
              "      <td>0</td>\n",
              "      <td>0</td>\n",
              "      <td>0</td>\n",
              "      <td>0</td>\n",
              "      <td>0</td>\n",
              "      <td>0</td>\n",
              "      <td>0</td>\n",
              "      <td>0</td>\n",
              "      <td>2</td>\n",
              "      <td>0</td>\n",
              "      <td>0</td>\n",
              "      <td>0</td>\n",
              "      <td>0</td>\n",
              "      <td>0</td>\n",
              "      <td>0</td>\n",
              "      <td>0</td>\n",
              "      <td>1</td>\n",
              "      <td>1</td>\n",
              "      <td>1</td>\n",
              "      <td>0</td>\n",
              "      <td>0</td>\n",
              "      <td>1</td>\n",
              "      <td>0</td>\n",
              "      <td>0</td>\n",
              "    </tr>\n",
              "    <tr>\n",
              "      <th>3</th>\n",
              "      <td>26.0</td>\n",
              "      <td>153</td>\n",
              "      <td>25.0</td>\n",
              "      <td>1467</td>\n",
              "      <td>94683</td>\n",
              "      <td>587</td>\n",
              "      <td>4300</td>\n",
              "      <td>46165</td>\n",
              "      <td>5121</td>\n",
              "      <td>5378</td>\n",
              "      <td>33719</td>\n",
              "      <td>1</td>\n",
              "      <td>0</td>\n",
              "      <td>0</td>\n",
              "      <td>0</td>\n",
              "      <td>0</td>\n",
              "      <td>0</td>\n",
              "      <td>0</td>\n",
              "      <td>0</td>\n",
              "      <td>1</td>\n",
              "      <td>0</td>\n",
              "      <td>0</td>\n",
              "      <td>0</td>\n",
              "      <td>0</td>\n",
              "      <td>0</td>\n",
              "      <td>0</td>\n",
              "      <td>0</td>\n",
              "      <td>0</td>\n",
              "      <td>0</td>\n",
              "      <td>0</td>\n",
              "      <td>0</td>\n",
              "      <td>1</td>\n",
              "      <td>0</td>\n",
              "      <td>0</td>\n",
              "      <td>0</td>\n",
              "      <td>0</td>\n",
              "      <td>1</td>\n",
              "      <td>0</td>\n",
              "      <td>0</td>\n",
              "      <td>1</td>\n",
              "      <td>...</td>\n",
              "      <td>0</td>\n",
              "      <td>0</td>\n",
              "      <td>0</td>\n",
              "      <td>0</td>\n",
              "      <td>0</td>\n",
              "      <td>0</td>\n",
              "      <td>1</td>\n",
              "      <td>0</td>\n",
              "      <td>0</td>\n",
              "      <td>0</td>\n",
              "      <td>0</td>\n",
              "      <td>0</td>\n",
              "      <td>0</td>\n",
              "      <td>0</td>\n",
              "      <td>0</td>\n",
              "      <td>0</td>\n",
              "      <td>0</td>\n",
              "      <td>1</td>\n",
              "      <td>0</td>\n",
              "      <td>0</td>\n",
              "      <td>0</td>\n",
              "      <td>0</td>\n",
              "      <td>0</td>\n",
              "      <td>0</td>\n",
              "      <td>2</td>\n",
              "      <td>0</td>\n",
              "      <td>0</td>\n",
              "      <td>0</td>\n",
              "      <td>0</td>\n",
              "      <td>0</td>\n",
              "      <td>0</td>\n",
              "      <td>0</td>\n",
              "      <td>1</td>\n",
              "      <td>1</td>\n",
              "      <td>1</td>\n",
              "      <td>0</td>\n",
              "      <td>0</td>\n",
              "      <td>1</td>\n",
              "      <td>0</td>\n",
              "      <td>0</td>\n",
              "    </tr>\n",
              "    <tr>\n",
              "      <th>4</th>\n",
              "      <td>52.0</td>\n",
              "      <td>364</td>\n",
              "      <td>23.0</td>\n",
              "      <td>4369</td>\n",
              "      <td>13224</td>\n",
              "      <td>18</td>\n",
              "      <td>642</td>\n",
              "      <td>7314</td>\n",
              "      <td>766</td>\n",
              "      <td>1108</td>\n",
              "      <td>3394</td>\n",
              "      <td>0</td>\n",
              "      <td>1</td>\n",
              "      <td>0</td>\n",
              "      <td>0</td>\n",
              "      <td>0</td>\n",
              "      <td>0</td>\n",
              "      <td>0</td>\n",
              "      <td>0</td>\n",
              "      <td>0</td>\n",
              "      <td>0</td>\n",
              "      <td>1</td>\n",
              "      <td>0</td>\n",
              "      <td>0</td>\n",
              "      <td>0</td>\n",
              "      <td>0</td>\n",
              "      <td>0</td>\n",
              "      <td>0</td>\n",
              "      <td>0</td>\n",
              "      <td>0</td>\n",
              "      <td>0</td>\n",
              "      <td>0</td>\n",
              "      <td>0</td>\n",
              "      <td>0</td>\n",
              "      <td>0</td>\n",
              "      <td>0</td>\n",
              "      <td>0</td>\n",
              "      <td>0</td>\n",
              "      <td>0</td>\n",
              "      <td>0</td>\n",
              "      <td>...</td>\n",
              "      <td>0</td>\n",
              "      <td>0</td>\n",
              "      <td>0</td>\n",
              "      <td>0</td>\n",
              "      <td>0</td>\n",
              "      <td>0</td>\n",
              "      <td>1</td>\n",
              "      <td>0</td>\n",
              "      <td>0</td>\n",
              "      <td>0</td>\n",
              "      <td>0</td>\n",
              "      <td>0</td>\n",
              "      <td>0</td>\n",
              "      <td>0</td>\n",
              "      <td>1</td>\n",
              "      <td>0</td>\n",
              "      <td>0</td>\n",
              "      <td>0</td>\n",
              "      <td>0</td>\n",
              "      <td>0</td>\n",
              "      <td>0</td>\n",
              "      <td>0</td>\n",
              "      <td>0</td>\n",
              "      <td>0</td>\n",
              "      <td>0</td>\n",
              "      <td>0</td>\n",
              "      <td>0</td>\n",
              "      <td>0</td>\n",
              "      <td>1</td>\n",
              "      <td>0</td>\n",
              "      <td>0</td>\n",
              "      <td>0</td>\n",
              "      <td>0</td>\n",
              "      <td>0</td>\n",
              "      <td>1</td>\n",
              "      <td>0</td>\n",
              "      <td>0</td>\n",
              "      <td>0</td>\n",
              "      <td>0</td>\n",
              "      <td>0</td>\n",
              "    </tr>\n",
              "  </tbody>\n",
              "</table>\n",
              "<p>5 rows × 98 columns</p>\n",
              "</div>"
            ],
            "text/plain": [
              "   Episodes  Aired  Duration  Popularity  ...  rx  teens  unknown  violence\n",
              "0      26.0    364      24.0          39  ...   0      0        0         1\n",
              "1       1.0     99       1.0         518  ...   0      0        0         1\n",
              "2      26.0    155      24.0         201  ...   0      1        0         0\n",
              "3      26.0    153      25.0        1467  ...   0      1        0         0\n",
              "4      52.0    364      23.0        4369  ...   0      0        0         0\n",
              "\n",
              "[5 rows x 98 columns]"
            ]
          },
          "metadata": {
            "tags": []
          },
          "execution_count": 30
        }
      ]
    },
    {
      "cell_type": "markdown",
      "metadata": {
        "id": "circular-rates"
      },
      "source": [
        "Splitting the dataset into 80% for training, 20% for testing. "
      ],
      "id": "circular-rates"
    },
    {
      "cell_type": "code",
      "metadata": {
        "id": "celtic-cooking"
      },
      "source": [
        "\n",
        "X_train, X_test, y_train, y_test = splitData(X, y, 0.20)\n"
      ],
      "id": "celtic-cooking",
      "execution_count": null,
      "outputs": []
    },
    {
      "cell_type": "markdown",
      "metadata": {
        "id": "beautiful-engagement"
      },
      "source": [
        "Normalizing features using MinMaxScaler() from sklearn. This ensures, that they are no numerical over/under flows \n",
        "while predicting regression values. Normalizing data also helps in avoiding underfitting on the training data set. "
      ],
      "id": "beautiful-engagement"
    },
    {
      "cell_type": "code",
      "metadata": {
        "colab": {
          "base_uri": "https://localhost:8080/"
        },
        "id": "urban-model",
        "outputId": "977d2fb7-347c-4fd5-a221-c33bf4f7b55b"
      },
      "source": [
        "\n",
        "X_train[numerical_features] = normalizingData(X_train[numerical_features])\n",
        "X_test[numerical_features]  = normalizingData(X_test[numerical_features])\n",
        "\n"
      ],
      "id": "urban-model",
      "execution_count": null,
      "outputs": [
        {
          "output_type": "stream",
          "text": [
            "/usr/local/lib/python3.7/dist-packages/ipykernel_launcher.py:2: SettingWithCopyWarning: \n",
            "A value is trying to be set on a copy of a slice from a DataFrame.\n",
            "Try using .loc[row_indexer,col_indexer] = value instead\n",
            "\n",
            "See the caveats in the documentation: https://pandas.pydata.org/pandas-docs/stable/user_guide/indexing.html#returning-a-view-versus-a-copy\n",
            "  \n",
            "/usr/local/lib/python3.7/dist-packages/pandas/core/indexing.py:1734: SettingWithCopyWarning: \n",
            "A value is trying to be set on a copy of a slice from a DataFrame.\n",
            "Try using .loc[row_indexer,col_indexer] = value instead\n",
            "\n",
            "See the caveats in the documentation: https://pandas.pydata.org/pandas-docs/stable/user_guide/indexing.html#returning-a-view-versus-a-copy\n",
            "  isetter(loc, value[:, i].tolist())\n",
            "/usr/local/lib/python3.7/dist-packages/ipykernel_launcher.py:3: SettingWithCopyWarning: \n",
            "A value is trying to be set on a copy of a slice from a DataFrame.\n",
            "Try using .loc[row_indexer,col_indexer] = value instead\n",
            "\n",
            "See the caveats in the documentation: https://pandas.pydata.org/pandas-docs/stable/user_guide/indexing.html#returning-a-view-versus-a-copy\n",
            "  This is separate from the ipykernel package so we can avoid doing imports until\n",
            "/usr/local/lib/python3.7/dist-packages/pandas/core/indexing.py:1734: SettingWithCopyWarning: \n",
            "A value is trying to be set on a copy of a slice from a DataFrame.\n",
            "Try using .loc[row_indexer,col_indexer] = value instead\n",
            "\n",
            "See the caveats in the documentation: https://pandas.pydata.org/pandas-docs/stable/user_guide/indexing.html#returning-a-view-versus-a-copy\n",
            "  isetter(loc, value[:, i].tolist())\n"
          ],
          "name": "stderr"
        }
      ]
    },
    {
      "cell_type": "markdown",
      "metadata": {
        "id": "starting-income"
      },
      "source": [
        "Correlation matrix is a convinient way of identifying features that are more correlated with the target label ('Score'). Retaining highly positive and negative correlated features are helpful in improving the performace of the regression model. \n",
        "\n",
        "However, since there are less number of features in our processed dataset, we do not remove very low positively correlated features such as 'Episodes' and 'Aired'. Interestingly, there is a negative correlation between the 'Popularity' feature and the target label, 'Score'. This is because 'Popularity' is the ranking number of users that added the anime to their list. The more popular the anime is, the lower the value of 'Popularity' is. Therefore, we wee a negative correlation between 'Popularity' and 'Score'."
      ],
      "id": "starting-income"
    },
    {
      "cell_type": "code",
      "metadata": {
        "colab": {
          "base_uri": "https://localhost:8080/",
          "height": 321
        },
        "id": "reverse-flush",
        "outputId": "b24b75b2-659a-4c8a-b98e-3a5422452bd0"
      },
      "source": [
        "plotDataCorrelation(X_train[numerical_features], y)"
      ],
      "id": "reverse-flush",
      "execution_count": null,
      "outputs": [
        {
          "output_type": "display_data",
          "data": {
            "image/png": "[encoded data removed]",
            "text/plain": [
              "<Figure size 432x288 with 2 Axes>"
            ]
          },
          "metadata": {
            "tags": []
          }
        }
      ]
    },
    {
      "cell_type": "markdown",
      "metadata": {
        "id": "Iu2aCINDKx8N"
      },
      "source": [
        "## Support Vector Regression Model for regression task: Predicting score of anime"
      ],
      "id": "Iu2aCINDKx8N"
    },
    {
      "cell_type": "markdown",
      "metadata": {
        "id": "mathematical-india"
      },
      "source": [
        "A typical regression task can be done by one of the following models.\n",
        "\n",
        "1. Deep Neural Networks\n",
        "2. Multivariate Regression\n",
        "3. Support Vector Machines/Support Vector Regression\n",
        "4. Logistic Regression.\n",
        "\n",
        "Logistic regression is generally treated as a baseline model as it is unable to generalize well on highly non linear test data. The same notion holds true for multivariate regression as both try to model linear decision boundaries from the training data. The former uses sigmoid activation to handle binary classification/regression while the latter uses softmax activation to predict the probability distribution over different classes. On the other hand, Deep Neural Networks are eminent in achieving state of the art performance under different verticals such as Computer Vision and Natural Language Processing, but, are plagued by their demand of huge amounts of training data and further rigorous hyperparameter tuning for increasing their generalization performance(test accuracy). Hence, for our case, we needed a model which could work well for non-linear data and was relatively easy to train and tune.\n",
        "\n",
        "Thus, we experimented Support Vector Regression (SVR) following the above mentioned reasoning. Additionally, SVR models are also robust to outliers. However, they suffer from increased training time on large datasets. In this case, the pros of using this model greatly outweighed its cons and hence, we finalized the SVR model for our task of regression.\n"
      ],
      "id": "mathematical-india"
    },
    {
      "cell_type": "code",
      "metadata": {
        "colab": {
          "base_uri": "https://localhost:8080/"
        },
        "id": "incident-conflict",
        "outputId": "cf36638c-8c45-4bbb-c8df-302a1e8c7744"
      },
      "source": [
        "svr = SVR()\n",
        "svr.fit(X_train, y_train)\n",
        "predictions_test_set = svr.predict(X_test)\n",
        "findRMSE(predictions_test_set, y_test)"
      ],
      "id": "incident-conflict",
      "execution_count": null,
      "outputs": [
        {
          "output_type": "execute_result",
          "data": {
            "text/plain": [
              "0.5294305676106621"
            ]
          },
          "metadata": {
            "tags": []
          },
          "execution_count": 35
        }
      ]
    },
    {
      "cell_type": "markdown",
      "metadata": {
        "id": "eight-exercise"
      },
      "source": [
        "We tried encoding and including the comma seperate values (Names, Producers and Studios) in the training dataset. One hot encoding these features lead to a huge increase in the total number of features. We also experimented of encoding two out of these 3 features to observe any variations in the RMSE. However, these encoded features had a minor impact on improving the efficacy of our model."
      ],
      "id": "eight-exercise"
    },
    {
      "cell_type": "code",
      "metadata": {
        "id": "weird-transition"
      },
      "source": [
        "def experimentFeatures(data):\n",
        "    \n",
        "    \"\"\"\n",
        "    Performs data cleaning on the given data and returns the additional encoded commaseperated features, \n",
        "    labels, list of numerical features and list of categorical features.\n",
        "    \"\"\"\n",
        "    \n",
        "    redundant = ['MAL_ID','English name', 'Japanese name', 'Premiered', 'Licensors', 'Score-10', 'Score-9', 'Score-8',\n",
        "                'Score-7', 'Score-6', 'Score-5', 'Score-4', 'Score-3', 'Score-2', 'Score-1']\n",
        "    features = data.copy()\n",
        "    features = dropFeatures(features, redundant)\n",
        "    \n",
        "    imputedFeatures = imputeFeatures(features)\n",
        "   \n",
        "    features = cleanDate(imputedFeatures)\n",
        "   \n",
        "    \n",
        "    numerical_features   = ['Episodes', 'Aired', 'Duration','Popularity','Members','Favorites', \n",
        "                            'Watching', 'Completed', 'On-Hold', 'Dropped', 'Plan to Watch']\n",
        "    categorical_features = ['Name','Genres', 'Types', 'Producers', 'Studios', 'Source', 'Rating']\n",
        "    \n",
        "    #Encoding categorical and comma seperated features.\n",
        "    encodeList = ['Genres', 'Type', 'Source', 'Rating', 'Producers', 'Studios']\n",
        "    \n",
        "    encodedFeatures = cleanCategoricalFeatures(features, encodeList)\n",
        "    \n",
        "    \n",
        "    labels = features.Score\n",
        "    labels = imputeMeanValues(labels)\n",
        "    \n",
        "    dropList = ['Score', 'Ranked', 'Name']\n",
        "    features = dropFeatures(encodedFeatures, dropList)\n",
        "\n",
        "    return features, labels, numerical_features, categorical_features\n",
        "    "
      ],
      "id": "weird-transition",
      "execution_count": null,
      "outputs": []
    },
    {
      "cell_type": "code",
      "metadata": {
        "colab": {
          "base_uri": "https://localhost:8080/"
        },
        "id": "dirty-sender",
        "outputId": "89cda0ed-7327-4c7b-fc6a-0bfcb8e7399e"
      },
      "source": [
        "X, y, numerical_features, categorical_features = experimentFeatures(anime_features)\n",
        "\n",
        "\n",
        "X_train, X_test, y_train, y_test = splitData(X, y, 0.20)\n",
        "\n",
        "\n",
        "X_train[numerical_features] = normalizingData(X_train[numerical_features])\n",
        "X_test[numerical_features]  = normalizingData(X_test[numerical_features])\n",
        "\n"
      ],
      "id": "dirty-sender",
      "execution_count": null,
      "outputs": [
        {
          "output_type": "stream",
          "text": [
            "/usr/local/lib/python3.7/dist-packages/ipykernel_launcher.py:7: SettingWithCopyWarning: \n",
            "A value is trying to be set on a copy of a slice from a DataFrame.\n",
            "Try using .loc[row_indexer,col_indexer] = value instead\n",
            "\n",
            "See the caveats in the documentation: https://pandas.pydata.org/pandas-docs/stable/user_guide/indexing.html#returning-a-view-versus-a-copy\n",
            "  import sys\n",
            "/usr/local/lib/python3.7/dist-packages/pandas/core/indexing.py:1734: SettingWithCopyWarning: \n",
            "A value is trying to be set on a copy of a slice from a DataFrame.\n",
            "Try using .loc[row_indexer,col_indexer] = value instead\n",
            "\n",
            "See the caveats in the documentation: https://pandas.pydata.org/pandas-docs/stable/user_guide/indexing.html#returning-a-view-versus-a-copy\n",
            "  isetter(loc, value[:, i].tolist())\n",
            "/usr/local/lib/python3.7/dist-packages/ipykernel_launcher.py:8: SettingWithCopyWarning: \n",
            "A value is trying to be set on a copy of a slice from a DataFrame.\n",
            "Try using .loc[row_indexer,col_indexer] = value instead\n",
            "\n",
            "See the caveats in the documentation: https://pandas.pydata.org/pandas-docs/stable/user_guide/indexing.html#returning-a-view-versus-a-copy\n",
            "  \n",
            "/usr/local/lib/python3.7/dist-packages/pandas/core/indexing.py:1734: SettingWithCopyWarning: \n",
            "A value is trying to be set on a copy of a slice from a DataFrame.\n",
            "Try using .loc[row_indexer,col_indexer] = value instead\n",
            "\n",
            "See the caveats in the documentation: https://pandas.pydata.org/pandas-docs/stable/user_guide/indexing.html#returning-a-view-versus-a-copy\n",
            "  isetter(loc, value[:, i].tolist())\n"
          ],
          "name": "stderr"
        }
      ]
    },
    {
      "cell_type": "code",
      "metadata": {
        "colab": {
          "base_uri": "https://localhost:8080/"
        },
        "id": "incorporate-representative",
        "outputId": "d44f234a-e554-4a15-deb2-6b81dfbd0ad3"
      },
      "source": [
        "# After Encoding Producers and Studios\n",
        "X_train.shape"
      ],
      "id": "incorporate-representative",
      "execution_count": null,
      "outputs": [
        {
          "output_type": "execute_result",
          "data": {
            "text/plain": [
              "(14049, 2390)"
            ]
          },
          "metadata": {
            "tags": []
          },
          "execution_count": 38
        }
      ]
    },
    {
      "cell_type": "markdown",
      "metadata": {
        "id": "described-reporter"
      },
      "source": [
        "Results in an increased training time with negligible improvement in the efficacy of the model."
      ],
      "id": "described-reporter"
    },
    {
      "cell_type": "code",
      "metadata": {
        "colab": {
          "base_uri": "https://localhost:8080/"
        },
        "id": "industrial-measure",
        "outputId": "c2c3fa92-9a9d-4937-ad85-a7216ffefa7a"
      },
      "source": [
        "svr = SVR()\n",
        "svr.fit(X_train, y_train)\n",
        "# Error after encoding both Producers and Studios.\n",
        "predictions_test_set = svr.predict(X_test)\n",
        "findRMSE(predictions_test_set, y_test)"
      ],
      "id": "industrial-measure",
      "execution_count": null,
      "outputs": [
        {
          "output_type": "execute_result",
          "data": {
            "text/plain": [
              "0.5152252681868617"
            ]
          },
          "metadata": {
            "tags": []
          },
          "execution_count": 39
        }
      ]
    },
    {
      "cell_type": "markdown",
      "metadata": {
        "id": "alternative-expert"
      },
      "source": [
        "Excluding features derived from shows that are already being streamed."
      ],
      "id": "alternative-expert"
    },
    {
      "cell_type": "code",
      "metadata": {
        "id": "compliant-forwarding"
      },
      "source": [
        "def experimentPreStreamingFeatures(data):\n",
        "    \n",
        "    \"\"\"\n",
        "    Performs data cleaning on the given data and returns the resulting pre streaming features, \n",
        "    labels, list of numerical features and list of categorical features.\n",
        "    \n",
        "    \"\"\"\n",
        "    \n",
        "    redundant = ['MAL_ID','English name', 'Japanese name', 'Premiered', 'Licensors', 'Score-10', 'Score-9', 'Score-8',\n",
        "                'Score-7', 'Score-6', 'Score-5', 'Score-4', 'Score-3', 'Score-2', 'Score-1']\n",
        "    features = data.copy()\n",
        "    features = dropFeatures(features, redundant)\n",
        "    \n",
        "    imputedFeatures = imputeFeatures(features)\n",
        "    features = cleanDate(imputedFeatures)\n",
        "    \n",
        "    # Excluding all broadcast related features\n",
        "    non_broadcast_features=['Episodes','Duration','Genres','Type','Producers','Source','Rating','Studios','Score','Name']\n",
        "    numerical_features = ['Episodes', 'Duration']\n",
        "    categorical_features = ['Genres', 'Types', 'Producers', 'Source', 'Studios', 'Rating', 'Name']\n",
        "    features = features[non_broadcast_features]\n",
        "    \n",
        "    \n",
        "    #Encoding categorical and comma seperated features.\n",
        "    encodeList = ['Genres', 'Type', 'Source', 'Rating', 'Producers', 'Studios']\n",
        "    \n",
        "    encodedFeatures = cleanCategoricalFeatures(features, encodeList)\n",
        "    \n",
        "    \n",
        "    labels = features.Score\n",
        "    labels = imputeMeanValues(labels)\n",
        "    \n",
        "    dropList = ['Score', 'Name']\n",
        "    features = dropFeatures(encodedFeatures, dropList)\n",
        "\n",
        "    return features, labels, numerical_features, categorical_features"
      ],
      "id": "compliant-forwarding",
      "execution_count": null,
      "outputs": []
    },
    {
      "cell_type": "code",
      "metadata": {
        "colab": {
          "base_uri": "https://localhost:8080/"
        },
        "id": "suitable-percentage",
        "outputId": "74fcacf9-6deb-4000-9206-7b98016e414d"
      },
      "source": [
        "X, y, numerical_features, categorical_features= experimentPreStreamingFeatures(anime_features)\n",
        "\n",
        "\n",
        "X_train, X_test, y_train, y_test = splitData(X, y, 0.20)\n",
        "\n",
        "\n",
        "X_train[numerical_features] = normalizingData(X_train[numerical_features])\n",
        "X_test[numerical_features]  = normalizingData(X_test[numerical_features])\n",
        "\n"
      ],
      "id": "suitable-percentage",
      "execution_count": null,
      "outputs": [
        {
          "output_type": "stream",
          "text": [
            "/usr/local/lib/python3.7/dist-packages/pandas/core/series.py:4582: SettingWithCopyWarning: \n",
            "A value is trying to be set on a copy of a slice from a DataFrame\n",
            "\n",
            "See the caveats in the documentation: https://pandas.pydata.org/pandas-docs/stable/user_guide/indexing.html#returning-a-view-versus-a-copy\n",
            "  method=method,\n",
            "/usr/local/lib/python3.7/dist-packages/ipykernel_launcher.py:7: SettingWithCopyWarning: \n",
            "A value is trying to be set on a copy of a slice from a DataFrame.\n",
            "Try using .loc[row_indexer,col_indexer] = value instead\n",
            "\n",
            "See the caveats in the documentation: https://pandas.pydata.org/pandas-docs/stable/user_guide/indexing.html#returning-a-view-versus-a-copy\n",
            "  import sys\n",
            "/usr/local/lib/python3.7/dist-packages/pandas/core/indexing.py:1734: SettingWithCopyWarning: \n",
            "A value is trying to be set on a copy of a slice from a DataFrame.\n",
            "Try using .loc[row_indexer,col_indexer] = value instead\n",
            "\n",
            "See the caveats in the documentation: https://pandas.pydata.org/pandas-docs/stable/user_guide/indexing.html#returning-a-view-versus-a-copy\n",
            "  isetter(loc, value[:, i].tolist())\n",
            "/usr/local/lib/python3.7/dist-packages/ipykernel_launcher.py:8: SettingWithCopyWarning: \n",
            "A value is trying to be set on a copy of a slice from a DataFrame.\n",
            "Try using .loc[row_indexer,col_indexer] = value instead\n",
            "\n",
            "See the caveats in the documentation: https://pandas.pydata.org/pandas-docs/stable/user_guide/indexing.html#returning-a-view-versus-a-copy\n",
            "  \n",
            "/usr/local/lib/python3.7/dist-packages/pandas/core/indexing.py:1734: SettingWithCopyWarning: \n",
            "A value is trying to be set on a copy of a slice from a DataFrame.\n",
            "Try using .loc[row_indexer,col_indexer] = value instead\n",
            "\n",
            "See the caveats in the documentation: https://pandas.pydata.org/pandas-docs/stable/user_guide/indexing.html#returning-a-view-versus-a-copy\n",
            "  isetter(loc, value[:, i].tolist())\n"
          ],
          "name": "stderr"
        }
      ]
    },
    {
      "cell_type": "code",
      "metadata": {
        "id": "genuine-tackle",
        "colab": {
          "base_uri": "https://localhost:8080/"
        },
        "outputId": "32731af7-445a-46c6-d890-b756eca1126d"
      },
      "source": [
        "X_train.shape"
      ],
      "id": "genuine-tackle",
      "execution_count": null,
      "outputs": [
        {
          "output_type": "execute_result",
          "data": {
            "text/plain": [
              "(14049, 2381)"
            ]
          },
          "metadata": {
            "tags": []
          },
          "execution_count": 42
        }
      ]
    },
    {
      "cell_type": "code",
      "metadata": {
        "id": "parental-improvement",
        "colab": {
          "base_uri": "https://localhost:8080/"
        },
        "outputId": "9c1ae1b4-d97f-4266-8b6d-f75dfe3f9da3"
      },
      "source": [
        "svr = SVR()\n",
        "svr.fit(X_train, y_train)\n",
        "predictions_test_set = svr.predict(X_test)\n",
        "findRMSE(predictions_test_set, y_test)"
      ],
      "id": "parental-improvement",
      "execution_count": null,
      "outputs": [
        {
          "output_type": "execute_result",
          "data": {
            "text/plain": [
              "0.6699053954593158"
            ]
          },
          "metadata": {
            "tags": []
          },
          "execution_count": 43
        }
      ]
    },
    {
      "cell_type": "markdown",
      "metadata": {
        "id": "liable-cleaner"
      },
      "source": [
        "Conclusion on the regression model.\n",
        "\n",
        "We experimented two types of models, one worked on the entire feature set (all of categorical and numerical features), while the other model worked on a feature set containing only the pre-streaming set of features. In both cases, the model has successfully predicted reliable ratings as the RMSE in both cases is less than 1. "
      ],
      "id": "liable-cleaner"
    },
    {
      "cell_type": "markdown",
      "metadata": {
        "id": "YCeM8TBBIFPb"
      },
      "source": [
        "## Random Forest Classifier for classification task: binary classification of anime into popular/ unpopular\n",
        "\n",
        "What we really care about is whether the anime is popular or not. Since purchasing licences is a huge cost, it is important to predict the top anime that are more likely to be popular. It is also important to pick what other anime to broadcast, besides the most popular ones. Here, we set threshold as 8 (on the scale of 1 to 10). Anime scoring above 8 will be defined as popular. \n",
        "\n",
        "We chose Random Forest Classifier as our algorithm because it is a bagged decision tree model that averages away the variance by splitting on a random subset of features. It also better handles imbalanced data. Since we are setting a high threshold, imbalanced data is a big issue for our classification task."
      ],
      "id": "YCeM8TBBIFPb"
    },
    {
      "cell_type": "code",
      "metadata": {
        "colab": {
          "base_uri": "https://localhost:8080/"
        },
        "id": "0gZuh15kIFPi",
        "outputId": "025df336-f175-474b-b444-93c33d75bd5e"
      },
      "source": [
        "# Impute Score\n",
        "rf_dataset = anime_features.copy()\n",
        "rf_dataset.Score = imputeMeanValues(rf_dataset.Score)\n",
        "\n",
        "# Split dataset into popular and unpopular subsets\n",
        "threshold = 8\n",
        "popular_anime = rf_dataset[rf_dataset['Score'] > threshold]\n",
        "unpopular_anime = rf_dataset[rf_dataset['Score'] <= threshold]\n",
        "\n",
        "# Number of popular anime on average per premiered season\n",
        "popular_anime.groupby(['Premiered']).count().mean()[0]"
      ],
      "id": "0gZuh15kIFPi",
      "execution_count": null,
      "outputs": [
        {
          "output_type": "execute_result",
          "data": {
            "text/plain": [
              "5.610526315789474"
            ]
          },
          "metadata": {
            "tags": []
          },
          "execution_count": 44
        }
      ]
    },
    {
      "cell_type": "code",
      "metadata": {
        "colab": {
          "base_uri": "https://localhost:8080/"
        },
        "id": "DRYEb7ICIFPj",
        "outputId": "da2077a4-8234-4588-9a18-66df8076caa5"
      },
      "source": [
        "# Number of unpopular anime on average per premiered season\n",
        "unpopular_anime.groupby(['Premiered']).count().mean()[0]"
      ],
      "id": "DRYEb7ICIFPj",
      "execution_count": null,
      "outputs": [
        {
          "output_type": "execute_result",
          "data": {
            "text/plain": [
              "73.71861471861472"
            ]
          },
          "metadata": {
            "tags": []
          },
          "execution_count": 45
        }
      ]
    },
    {
      "cell_type": "markdown",
      "metadata": {
        "id": "A93J8wjkEZal"
      },
      "source": [
        "Our analysis showed that when the threshold is 8, on average, around 5 to 6 anime will be defined as popular each premiered season and around 73 to 74 anime will be defined as unpopular. Purchasing around 5 to 6 anime per premiered season is common practice for many companies [[1]](#References), while bigger and richer companies may purchase more than 10 anime per season. Thus, setting a high threshold as 8 (on the scale of 1 to 10) is reasonable. However, we can view threshold as a hyperparameter. For example, if we want to purchase more anime, we can lower the threshold. In the following analysis, we will keep the threshold as 8."
      ],
      "id": "A93J8wjkEZal"
    },
    {
      "cell_type": "code",
      "metadata": {
        "colab": {
          "base_uri": "https://localhost:8080/"
        },
        "id": "L-MsNBsLNk9U",
        "outputId": "834b1fd9-dfe1-43b5-c8ea-bf02167935e3"
      },
      "source": [
        "X, y, numerical_features, categorical_features= experimentPreStreamingFeatures(anime_features)\n",
        "\n",
        "\n",
        "X_train, X_test, y_train, y_test = splitData(X, y, 0.20)\n",
        "\n",
        "\n",
        "X_train[numerical_features] = normalizingData(X_train[numerical_features])\n",
        "X_test[numerical_features]  = normalizingData(X_test[numerical_features])\n",
        "\n"
      ],
      "id": "L-MsNBsLNk9U",
      "execution_count": null,
      "outputs": [
        {
          "output_type": "stream",
          "text": [
            "/usr/local/lib/python3.7/dist-packages/pandas/core/series.py:4582: SettingWithCopyWarning: \n",
            "A value is trying to be set on a copy of a slice from a DataFrame\n",
            "\n",
            "See the caveats in the documentation: https://pandas.pydata.org/pandas-docs/stable/user_guide/indexing.html#returning-a-view-versus-a-copy\n",
            "  method=method,\n",
            "/usr/local/lib/python3.7/dist-packages/ipykernel_launcher.py:7: SettingWithCopyWarning: \n",
            "A value is trying to be set on a copy of a slice from a DataFrame.\n",
            "Try using .loc[row_indexer,col_indexer] = value instead\n",
            "\n",
            "See the caveats in the documentation: https://pandas.pydata.org/pandas-docs/stable/user_guide/indexing.html#returning-a-view-versus-a-copy\n",
            "  import sys\n",
            "/usr/local/lib/python3.7/dist-packages/pandas/core/indexing.py:1734: SettingWithCopyWarning: \n",
            "A value is trying to be set on a copy of a slice from a DataFrame.\n",
            "Try using .loc[row_indexer,col_indexer] = value instead\n",
            "\n",
            "See the caveats in the documentation: https://pandas.pydata.org/pandas-docs/stable/user_guide/indexing.html#returning-a-view-versus-a-copy\n",
            "  isetter(loc, value[:, i].tolist())\n",
            "/usr/local/lib/python3.7/dist-packages/ipykernel_launcher.py:8: SettingWithCopyWarning: \n",
            "A value is trying to be set on a copy of a slice from a DataFrame.\n",
            "Try using .loc[row_indexer,col_indexer] = value instead\n",
            "\n",
            "See the caveats in the documentation: https://pandas.pydata.org/pandas-docs/stable/user_guide/indexing.html#returning-a-view-versus-a-copy\n",
            "  \n",
            "/usr/local/lib/python3.7/dist-packages/pandas/core/indexing.py:1734: SettingWithCopyWarning: \n",
            "A value is trying to be set on a copy of a slice from a DataFrame.\n",
            "Try using .loc[row_indexer,col_indexer] = value instead\n",
            "\n",
            "See the caveats in the documentation: https://pandas.pydata.org/pandas-docs/stable/user_guide/indexing.html#returning-a-view-versus-a-copy\n",
            "  isetter(loc, value[:, i].tolist())\n"
          ],
          "name": "stderr"
        }
      ]
    },
    {
      "cell_type": "code",
      "metadata": {
        "id": "LCGKFImQIFPj"
      },
      "source": [
        "def rf_classify(X_train, y_train, X_test, y_test, threshold=8):\n",
        "  ''' Trains Random Forest Classifier and prints out evaluation of predictions. \n",
        "  Args:\n",
        "    X_train: training data features\n",
        "    y_train: training data labels (average score of anime)\n",
        "    X_test: test data features\n",
        "    y_test: test data labels (average score of anime)\n",
        "    threshold: anime scoring above the theshold will be classified as popular\n",
        "  Returns:\n",
        "    Random Forest model\n",
        "  '''\n",
        "  rf = RandomForestClassifier()\n",
        "  y_train = y_train.apply(lambda x: 1 if x > threshold else 0)\n",
        "  y_test = y_test.apply(lambda x: 1 if x > threshold else 0) \n",
        "  rf.fit(X_train, y_train)\n",
        "  predictions_test_set = rf.predict(X_test)\n",
        "  print('RMSE:', findRMSE(predictions_test_set, y_test))\n",
        "  print('Mean accuracy:', rf.score(X_test, y_test))\n",
        "  print('AUC score:', roc_auc_score(y_test, predictions_test_set))\n",
        "\n",
        "  return rf\n"
      ],
      "id": "LCGKFImQIFPj",
      "execution_count": null,
      "outputs": []
    },
    {
      "cell_type": "code",
      "metadata": {
        "colab": {
          "base_uri": "https://localhost:8080/"
        },
        "id": "5vjfI58PIFPk",
        "outputId": "6c846513-7cd4-46f1-dc64-a97a20b23940"
      },
      "source": [
        "# Perform classification\n",
        "rf = rf_classify(X_train, y_train, X_test, y_test, threshold=8)"
      ],
      "id": "5vjfI58PIFPk",
      "execution_count": null,
      "outputs": [
        {
          "output_type": "stream",
          "text": [
            "RMSE: 0.6699053954593158\n",
            "Mean accuracy: 0.9783660688869912\n",
            "AUC score: 0.635818114625358\n"
          ],
          "name": "stdout"
        }
      ]
    },
    {
      "cell_type": "code",
      "metadata": {
        "colab": {
          "base_uri": "https://localhost:8080/"
        },
        "id": "8Ugt4BtlKxQE",
        "outputId": "4ecda657-b578-4890-ddc9-355bf4167c6f"
      },
      "source": [
        "# 5-fold cross validation score\n",
        "cross_val_score(rf, X, y.apply(lambda x: 1 if x > threshold else 0))"
      ],
      "id": "8Ugt4BtlKxQE",
      "execution_count": null,
      "outputs": [
        {
          "output_type": "execute_result",
          "data": {
            "text/plain": [
              "array([0.9695417 , 0.97124964, 0.97238041, 0.97465831, 0.97209567])"
            ]
          },
          "metadata": {
            "tags": []
          },
          "execution_count": 49
        }
      ]
    },
    {
      "cell_type": "markdown",
      "metadata": {
        "id": "ye_xIX-dIFPk"
      },
      "source": [
        "Though the RMSE of 0.67 is low and both mean accuracy and cross validation score are very high, the AUC score of 63.6% is very low, suggesting that our model is poor. This may be caused by imbalanced data, as less than 10% of anime are defined as popular with threshold as 8. Therefore, we then handle the imbalanced data with SMOTE."
      ],
      "id": "ye_xIX-dIFPk"
    },
    {
      "cell_type": "markdown",
      "metadata": {
        "id": "NsaY3xgDIFPk"
      },
      "source": [
        "## Handling imbalanced data"
      ],
      "id": "NsaY3xgDIFPk"
    },
    {
      "cell_type": "code",
      "metadata": {
        "id": "yPJjKr9iIFPk"
      },
      "source": [
        "def rf_classify_smote(X_train, y_train, X_test, y_test, threshold=8):\n",
        "  ''' Performs oversampling with SMOTE, trains Random Forest Classifier and print out evaluation of predictions. \n",
        "  Args:\n",
        "    X_train: training data features\n",
        "    y_train: training data labels (average score of anime)\n",
        "    X_test: test data features\n",
        "    y_test: test data labels (average score of anime)\n",
        "    threshold: anime scoring above the theshold will be classified as popular\n",
        "  Returns:\n",
        "    Random Forest model\n",
        "  '''\n",
        "  # Oversampling using SMOTE\n",
        "  y_train = y_train.apply(lambda x: 1 if x > threshold else 0)\n",
        "  y_test = y_test.apply(lambda x: 1 if x > threshold else 0)\n",
        "  X_balance, y_balance = SMOTE().fit_resample(X_train, y_train)\n",
        "\n",
        "  rf = RandomForestClassifier()\n",
        "  rf.fit(X_balance, y_balance)\n",
        "  predictions_test_set = rf.predict(X_test)\n",
        "  print('RMSE:', findRMSE(predictions_test_set, y_test))\n",
        "  print('Mean accuracy:', rf.score(X_test, y_test))\n",
        "  print('AUC score:', roc_auc_score(y_test, predictions_test_set))\n",
        "\n",
        "  return rf\n"
      ],
      "id": "yPJjKr9iIFPk",
      "execution_count": null,
      "outputs": []
    },
    {
      "cell_type": "code",
      "metadata": {
        "colab": {
          "base_uri": "https://localhost:8080/"
        },
        "id": "_M82Li2jIFPl",
        "outputId": "e3475742-b754-4fb3-f2d5-51082e2c883a"
      },
      "source": [
        "# Fit and predict using new data generated by SMOTE\n",
        "rf_balance = rf_classify_smote(X_train, y_train, X_test, y_test, threshold=8)"
      ],
      "id": "_M82Li2jIFPl",
      "execution_count": null,
      "outputs": [
        {
          "output_type": "stream",
          "text": [
            "/usr/local/lib/python3.7/dist-packages/sklearn/utils/deprecation.py:87: FutureWarning: Function safe_indexing is deprecated; safe_indexing is deprecated in version 0.22 and will be removed in version 0.24.\n",
            "  warnings.warn(msg, category=FutureWarning)\n"
          ],
          "name": "stderr"
        },
        {
          "output_type": "stream",
          "text": [
            "RMSE: 0.6699053954593158\n",
            "Mean accuracy: 0.977512097922004\n",
            "AUC score: 0.6558467555665056\n"
          ],
          "name": "stdout"
        }
      ]
    },
    {
      "cell_type": "markdown",
      "metadata": {
        "id": "YYJ0B9gZFs7H"
      },
      "source": [
        "The result suggests that using SMOTE along may not be sufficient to improve the model, as we see only an increase of 0.02. Perhaps the data is still very biased even after oversampling. Therefore, we also tried lowering the threshold."
      ],
      "id": "YYJ0B9gZFs7H"
    },
    {
      "cell_type": "code",
      "metadata": {
        "colab": {
          "base_uri": "https://localhost:8080/"
        },
        "id": "8ccYMon8Ef1X",
        "outputId": "f7774537-a768-4d2f-8459-acb18443892c"
      },
      "source": [
        "rf_balance = rf_classify_smote(X_train, y_train, X_test, y_test, threshold=7)\n"
      ],
      "id": "8ccYMon8Ef1X",
      "execution_count": null,
      "outputs": [
        {
          "output_type": "stream",
          "text": [
            "/usr/local/lib/python3.7/dist-packages/sklearn/utils/deprecation.py:87: FutureWarning: Function safe_indexing is deprecated; safe_indexing is deprecated in version 0.22 and will be removed in version 0.24.\n",
            "  warnings.warn(msg, category=FutureWarning)\n"
          ],
          "name": "stderr"
        },
        {
          "output_type": "stream",
          "text": [
            "RMSE: 0.6699053954593158\n",
            "Mean accuracy: 0.8710503842869343\n",
            "AUC score: 0.7902413556605301\n"
          ],
          "name": "stdout"
        }
      ]
    },
    {
      "cell_type": "code",
      "metadata": {
        "colab": {
          "base_uri": "https://localhost:8080/"
        },
        "id": "yUuuxPD5WNbq",
        "outputId": "b69f4b23-252b-4b06-9b03-54f99acd618e"
      },
      "source": [
        "# 5-fold cross validation score\n",
        "threshold = 7\n",
        "cross_val_score(rf_balance, X, y.apply(lambda x: 1 if x > threshold else 0))"
      ],
      "id": "yUuuxPD5WNbq",
      "execution_count": null,
      "outputs": [
        {
          "output_type": "execute_result",
          "data": {
            "text/plain": [
              "array([0.80216339, 0.83262169, 0.86958998, 0.87784738, 0.85791572])"
            ]
          },
          "metadata": {
            "tags": []
          },
          "execution_count": 55
        }
      ]
    },
    {
      "cell_type": "markdown",
      "metadata": {
        "id": "gmUtdkTFGjrF"
      },
      "source": [
        "By lowering the threshold, we get a much better model with a higher AUC score. The mean accuracy and cross validation score dropped but are still fairly high. Also, the RMSE remained the same. However, the limitation is that we are lowering our standard of classifying an anime as popular. One possible method that we can try in the future is to drop the data with unknown score, instead of imputing the score. This might decrease the percentage of unpopular anime and achieve a more balanced data. However, for our analysis, we didn't choose to drop the unknown values as we want to keep as much data as possible. "
      ],
      "id": "gmUtdkTFGjrF"
    },
    {
      "cell_type": "markdown",
      "metadata": {
        "id": "I7swz76eHovJ"
      },
      "source": [
        "## Text feature encoding \n",
        "\n",
        "We tried sklearn packages such as TfidfVectorizer, CountVectorizer, and OneHotEncoding to encode some text features including Name. However, this results in a huge number of features. We then tried to limit the maximum number of features, but this results in many 'useless' features, such as stop words. Therefore, dealing with text features will be our future direction. Here, we are showing just an example of what we tried, encoding Name with TfidfVectorizer."
      ],
      "id": "I7swz76eHovJ"
    },
    {
      "cell_type": "code",
      "metadata": {
        "colab": {
          "base_uri": "https://localhost:8080/"
        },
        "id": "ojvWcCBLHrPj",
        "outputId": "bc050bf1-6010-4362-82ed-bcf378a6aabb"
      },
      "source": [
        "# Featurizing Name of anime\n",
        "tfidf_vec = TfidfVectorizer(max_features=50) # Get more than 15000 features if we don't set max_features (max term frequency)\n",
        "name_tfidf = tfidf_vec.fit_transform(anime_features.Name)\n",
        "name_tfidf"
      ],
      "id": "ojvWcCBLHrPj",
      "execution_count": null,
      "outputs": [
        {
          "output_type": "execute_result",
          "data": {
            "text/plain": [
              "<17562x50 sparse matrix of type '<class 'numpy.float64'>'\n",
              "\twith 15472 stored elements in Compressed Sparse Row format>"
            ]
          },
          "metadata": {
            "tags": []
          },
          "execution_count": 53
        }
      ]
    },
    {
      "cell_type": "code",
      "metadata": {
        "colab": {
          "base_uri": "https://localhost:8080/"
        },
        "id": "WSALnWe-HtgP",
        "outputId": "e5cace50-36b8-4060-cebf-8aae3c851550"
      },
      "source": [
        "# A lot of stop words\n",
        "tfidf_vec.get_feature_names()"
      ],
      "id": "WSALnWe-HtgP",
      "execution_count": null,
      "outputs": [
        {
          "output_type": "execute_result",
          "data": {
            "text/plain": [
              "['2nd',\n",
              " 'ai',\n",
              " 'animation',\n",
              " 'anime',\n",
              " 'boku',\n",
              " 'chan',\n",
              " 'dai',\n",
              " 'de',\n",
              " 'densetsu',\n",
              " 'ga',\n",
              " 'gakuen',\n",
              " 'gekijou',\n",
              " 'girls',\n",
              " 'go',\n",
              " 'gundam',\n",
              " 'hen',\n",
              " 'ii',\n",
              " 'iii',\n",
              " 'kara',\n",
              " 'koi',\n",
              " 'kun',\n",
              " 'love',\n",
              " 'mahou',\n",
              " 'monogatari',\n",
              " 'movie',\n",
              " 'na',\n",
              " 'neko',\n",
              " 'ni',\n",
              " 'no',\n",
              " 'of',\n",
              " 'ova',\n",
              " 'pokemon',\n",
              " 'sama',\n",
              " 'san',\n",
              " 'season',\n",
              " 'sekai',\n",
              " 'shin',\n",
              " 'shoujo',\n",
              " 'shounen',\n",
              " 'special',\n",
              " 'specials',\n",
              " 'tachi',\n",
              " 'the',\n",
              " 'to',\n",
              " 'tv',\n",
              " 'uchuu',\n",
              " 'wa',\n",
              " 'wo',\n",
              " 'yo',\n",
              " 'zhi']"
            ]
          },
          "metadata": {
            "tags": []
          },
          "execution_count": 54
        }
      ]
    },
    {
      "cell_type": "markdown",
      "metadata": {
        "id": "HpKPUbSaWuh9"
      },
      "source": [
        "## Limitations\n",
        "\n",
        "The run time for fitting SVR model and predicting with SVR model are quite long. It may be better to filter out popular anime with Random Forest first, and then predict the rating only for the popular anime. \n",
        "\n",
        "The limitation of Random Forest model is that the data can be very imbalanced when we set a high threshold. There is a trade of between creating a balanced data and being stricter or conserved in classifying anime as popular.\n",
        "\n",
        "Some of the features used in our machine learning tasks are not available before broadcasting, such as watching status. Instead of including these features, we may consider including more features that will be available before broadcasting. For example, if the source of the anime is manga, i.e. the anime is produced based on a manga, we can collect data on the popularity of the manga. Intuitively, if a manga is popular, it is likely that the anime based on it will also be popular.\n",
        "\n",
        "Some text features like Name are excluded from our machine learning tasks because their encoding creates a huge number of features that are difficult for machine learning models to handle. Therefore, we may need larger models like deep neural networks to include these features. \n",
        "\n",
        "Our database is collected from the website myanimelist.net. This website is in English and the demographics of the users are not known. Since our assumption is that our company is competing with streaming platforms in China, this dataset may not reflect the preference of anime viewers in China and we should collect more data from the Chinese population. "
      ],
      "id": "HpKPUbSaWuh9"
    },
    {
      "cell_type": "markdown",
      "metadata": {
        "id": "mDTvNo8FWx7e"
      },
      "source": [
        "## Future directions\n",
        "\n",
        "Our analysis provides prediction for what anime are worth purchasing licence for, but a competent company needs more than just a few popular anime. The company needs to make sure that they also have a collection of other anime to provide more options for users and perhaps attract new users. One possible way to decide what anime to add to the collection is to tune the threshold of the Random Forest model. By lowering the threshold, we can filter out more anime that are likely to be more popular than others and include them in the collection. \n",
        "\n",
        "We can also collect more data to improve our model. For example, we can study the demographics of the current users, such as age, gender, etc., and include these features in training to get more tailored and accurate predictions for our company. Furthermore, we can allow users of our streaming platform to vote for anime that they would like to watch for the next season. \n",
        "\n",
        "There are other factors that may affect the revenue of our company. One important aspect is to improve the user experience in order to attract and keep more users to use our streaming platform. For example, we can build a recommendation system. By suggesting animes to each user according to their preference, we can attract users to continue using our platform. Some other factors including providing good subtitles, short or no advertisement, high quality video, and so on will also help attracting users and thus, increasing revenue. Another aspect is to determine the price. For example, we may provide membership, where users can pay a membership fee to watch all anime our platform provides. If a user did not join membership, he/she may have to pay a higher price for watching the most popular anime. \n",
        "\n",
        "We may also provide some unique features to stand out from our competitors. One possible idea is to implement a system where users can view anime with their friends synchronously online. They can join a chatroom to watch anime together and chat at the same time, as if they are actually watching the anime together in the same space. This might be a cool feature especially during the pandemic and this may also encourage more users to invite their friends to use our streaming platform. We may even provide discount if users invite their friends to join our membership. \n",
        "\n",
        "Another way of increasing revenue or decreasing cost is through collaboration. Besides collaborating with studios, as we mentioned in EDA, we may collaborate with online shops that sell anime goods, manga, etc.. For example, we can include links to those online shops on our website and provide promotion codes to our members. This way, the online shops may benefit from the advertisement on our website, and we may benefit from taking a cut from the online shops. We can also collaborate with other streaming platforms to decrease the cost. Since there is a limit on the number of anime we can purchase or add to our collection, we may include links to other streaming platforms for anime that we don't have on our platform. Even though we may not gain any revenue, we can avoid losing users because they can still find resource/link from our website. This also means that our company may purchase less anime, therefore, reducing the cost."
      ],
      "id": "mDTvNo8FWx7e"
    },
    {
      "cell_type": "markdown",
      "metadata": {
        "id": "NM247odjOrwB"
      },
      "source": [
        "## References\n",
        "\n",
        "1. https://zhuanlan.zhihu.com/p/58832776 "
      ],
      "id": "NM247odjOrwB"
    },
    {
      "cell_type": "code",
      "metadata": {
        "id": "eMnId1Xy2Br7"
      },
      "source": [
        ""
      ],
      "id": "eMnId1Xy2Br7",
      "execution_count": null,
      "outputs": []
    }
  ]
}